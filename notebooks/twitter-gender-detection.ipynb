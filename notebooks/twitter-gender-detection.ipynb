{
 "cells": [
  {
   "cell_type": "markdown",
   "id": "adca92c2",
   "metadata": {
    "_cell_guid": "b1076dfc-b9ad-4769-8c92-a6c4dae69d19",
    "_uuid": "8f2839f25d086af736a60e9eeb907d3b93b6e0e5",
    "papermill": {
     "duration": 0.02632,
     "end_time": "2022-06-20T14:50:44.801186",
     "exception": false,
     "start_time": "2022-06-20T14:50:44.774866",
     "status": "completed"
    },
    "tags": []
   },
   "source": [
    "![image](https://images.theconversation.com/files/351698/original/file-20200807-18-13k2a9d.jpg?ixlib=rb-1.1.0&rect=0%2C9%2C2158%2C1053&q=20&auto=format&w=320&fit=clip&dpr=2&usm=12&cs=strip)\n",
    "# **<span style = \"color:#008514\"> Introduction</span>**\n",
    "### The usage of social media has been increased by few times in the recent years. With this increasing number of users and content posted by them the interest of automatically identifying the users  has also increased. behaviour pattern such as political inclination, personality are the things we are talking about. Other things such as Gender, Ethnicity, age are also interesting. In this task we will focus on detecting the Gender of twitter users by their tweet written in Portuguese by extracting gender expression linguistic cues utilizing 25 attributes. "
   ]
  },
  {
   "cell_type": "markdown",
   "id": "1ef02d81",
   "metadata": {
    "papermill": {
     "duration": 0.024383,
     "end_time": "2022-06-20T14:50:44.852159",
     "exception": false,
     "start_time": "2022-06-20T14:50:44.827776",
     "status": "completed"
    },
    "tags": []
   },
   "source": [
    "# **<span style = \"color:#008514 \">Problem Statement</span>**\n",
    "### Predict user gender based on twitter gender Information."
   ]
  },
  {
   "cell_type": "markdown",
   "id": "6e93cfb1",
   "metadata": {
    "papermill": {
     "duration": 0.024395,
     "end_time": "2022-06-20T14:50:44.901192",
     "exception": false,
     "start_time": "2022-06-20T14:50:44.876797",
     "status": "completed"
    },
    "tags": []
   },
   "source": [
    "# **<span style = \"color:#008514 \">Data Source</span>**\n",
    "### This data is extracted from Kaggle. The link to the page is [Here](https://www.kaggle.com/datasets/crowdflower/twitter-user-gender-classification)\n",
    "### The information about the features of the dataset in given there."
   ]
  },
  {
   "cell_type": "markdown",
   "id": "47f6cc22",
   "metadata": {
    "papermill": {
     "duration": 0.024309,
     "end_time": "2022-06-20T14:50:44.950234",
     "exception": false,
     "start_time": "2022-06-20T14:50:44.925925",
     "status": "completed"
    },
    "tags": []
   },
   "source": [
    "# **<span style = \"color:#008514 \">Import all the necesary libraries and Classifiers</span>**"
   ]
  },
  {
   "cell_type": "code",
   "execution_count": 1,
   "id": "2e89800a",
   "metadata": {
    "execution": {
     "iopub.execute_input": "2022-06-20T14:50:45.003624Z",
     "iopub.status.busy": "2022-06-20T14:50:45.002754Z",
     "iopub.status.idle": "2022-06-20T14:50:48.203754Z",
     "shell.execute_reply": "2022-06-20T14:50:48.202826Z"
    },
    "papermill": {
     "duration": 3.231213,
     "end_time": "2022-06-20T14:50:48.206318",
     "exception": false,
     "start_time": "2022-06-20T14:50:44.975105",
     "status": "completed"
    },
    "tags": []
   },
   "outputs": [
    {
     "name": "stdout",
     "output_type": "stream",
     "text": [
      "[nltk_data] Downloading package punkt to /usr/share/nltk_data...\n",
      "[nltk_data]   Package punkt is already up-to-date!\n",
      "[nltk_data] Downloading package stopwords to /usr/share/nltk_data...\n",
      "[nltk_data]   Package stopwords is already up-to-date!\n",
      "[nltk_data] Downloading package wordnet to /usr/share/nltk_data...\n",
      "[nltk_data]   Package wordnet is already up-to-date!\n"
     ]
    },
    {
     "data": {
      "text/html": [
       "<style type='text/css'>\n",
       ".datatable table.frame { margin-bottom: 0; }\n",
       ".datatable table.frame thead { border-bottom: none; }\n",
       ".datatable table.frame tr.coltypes td {  color: #FFFFFF;  line-height: 6px;  padding: 0 0.5em;}\n",
       ".datatable .bool    { background: #DDDD99; }\n",
       ".datatable .object  { background: #565656; }\n",
       ".datatable .int     { background: #5D9E5D; }\n",
       ".datatable .float   { background: #4040CC; }\n",
       ".datatable .str     { background: #CC4040; }\n",
       ".datatable .time    { background: #40CC40; }\n",
       ".datatable .row_index {  background: var(--jp-border-color3);  border-right: 1px solid var(--jp-border-color0);  color: var(--jp-ui-font-color3);  font-size: 9px;}\n",
       ".datatable .frame tbody td { text-align: left; }\n",
       ".datatable .frame tr.coltypes .row_index {  background: var(--jp-border-color0);}\n",
       ".datatable th:nth-child(2) { padding-left: 12px; }\n",
       ".datatable .hellipsis {  color: var(--jp-cell-editor-border-color);}\n",
       ".datatable .vellipsis {  background: var(--jp-layout-color0);  color: var(--jp-cell-editor-border-color);}\n",
       ".datatable .na {  color: var(--jp-cell-editor-border-color);  font-size: 80%;}\n",
       ".datatable .sp {  opacity: 0.25;}\n",
       ".datatable .footer { font-size: 9px; }\n",
       ".datatable .frame_dimensions {  background: var(--jp-border-color3);  border-top: 1px solid var(--jp-border-color0);  color: var(--jp-ui-font-color3);  display: inline-block;  opacity: 0.6;  padding: 1px 10px 1px 5px;}\n",
       "</style>\n"
      ],
      "text/plain": [
       "<IPython.core.display.HTML object>"
      ]
     },
     "metadata": {},
     "output_type": "display_data"
    }
   ],
   "source": [
    "import pandas as pd\n",
    "import numpy as np\n",
    "import matplotlib.pyplot as plt\n",
    "import seaborn as sns\n",
    "plt.style.use('fivethirtyeight')\n",
    "import warnings\n",
    "warnings.filterwarnings('ignore')\n",
    "import nltk\n",
    "import re\n",
    "from nltk.stem import PorterStemmer\n",
    "from nltk.stem import WordNetLemmatizer\n",
    "from nltk.corpus import stopwords\n",
    "nltk.download('punkt')\n",
    "nltk.download('stopwords')\n",
    "nltk.download('wordnet')\n",
    "from sklearn.preprocessing import LabelEncoder\n",
    "from sklearn.feature_extraction.text import CountVectorizer\n",
    "from sklearn.feature_extraction.text import TfidfVectorizer\n",
    "from sklearn.model_selection import train_test_split\n",
    "from sklearn.naive_bayes import GaussianNB\n",
    "from xgboost import XGBClassifier\n",
    "from lightgbm import LGBMClassifier\n",
    "from sklearn.metrics import accuracy_score\n",
    "from sklearn.metrics import confusion_matrix\n",
    "from sklearn.metrics import classification_report\n",
    "from sklearn.model_selection import GridSearchCV\n",
    "from nltk.tokenize import word_tokenize"
   ]
  },
  {
   "cell_type": "code",
   "execution_count": 2,
   "id": "08795a1c",
   "metadata": {
    "execution": {
     "iopub.execute_input": "2022-06-20T14:50:48.259457Z",
     "iopub.status.busy": "2022-06-20T14:50:48.259044Z",
     "iopub.status.idle": "2022-06-20T14:50:48.572214Z",
     "shell.execute_reply": "2022-06-20T14:50:48.571282Z"
    },
    "papermill": {
     "duration": 0.342696,
     "end_time": "2022-06-20T14:50:48.574484",
     "exception": false,
     "start_time": "2022-06-20T14:50:48.231788",
     "status": "completed"
    },
    "tags": []
   },
   "outputs": [],
   "source": [
    "data = pd.read_csv('../input/twitter-user-gender-classification/gender-classifier-DFE-791531.csv',encoding='latin1')"
   ]
  },
  {
   "cell_type": "markdown",
   "id": "6153f43e",
   "metadata": {
    "papermill": {
     "duration": 0.0252,
     "end_time": "2022-06-20T14:50:48.625544",
     "exception": false,
     "start_time": "2022-06-20T14:50:48.600344",
     "status": "completed"
    },
    "tags": []
   },
   "source": [
    "# **<span style = \"color:#008514 \">Data Exploration</span>**"
   ]
  },
  {
   "cell_type": "code",
   "execution_count": 3,
   "id": "5322cfd8",
   "metadata": {
    "execution": {
     "iopub.execute_input": "2022-06-20T14:50:48.679277Z",
     "iopub.status.busy": "2022-06-20T14:50:48.678207Z",
     "iopub.status.idle": "2022-06-20T14:50:48.718209Z",
     "shell.execute_reply": "2022-06-20T14:50:48.717145Z"
    },
    "papermill": {
     "duration": 0.069082,
     "end_time": "2022-06-20T14:50:48.720503",
     "exception": false,
     "start_time": "2022-06-20T14:50:48.651421",
     "status": "completed"
    },
    "tags": []
   },
   "outputs": [
    {
     "data": {
      "text/html": [
       "<div>\n",
       "<style scoped>\n",
       "    .dataframe tbody tr th:only-of-type {\n",
       "        vertical-align: middle;\n",
       "    }\n",
       "\n",
       "    .dataframe tbody tr th {\n",
       "        vertical-align: top;\n",
       "    }\n",
       "\n",
       "    .dataframe thead th {\n",
       "        text-align: right;\n",
       "    }\n",
       "</style>\n",
       "<table border=\"1\" class=\"dataframe\">\n",
       "  <thead>\n",
       "    <tr style=\"text-align: right;\">\n",
       "      <th></th>\n",
       "      <th>_unit_id</th>\n",
       "      <th>_golden</th>\n",
       "      <th>_unit_state</th>\n",
       "      <th>_trusted_judgments</th>\n",
       "      <th>_last_judgment_at</th>\n",
       "      <th>gender</th>\n",
       "      <th>gender:confidence</th>\n",
       "      <th>profile_yn</th>\n",
       "      <th>profile_yn:confidence</th>\n",
       "      <th>created</th>\n",
       "      <th>...</th>\n",
       "      <th>profileimage</th>\n",
       "      <th>retweet_count</th>\n",
       "      <th>sidebar_color</th>\n",
       "      <th>text</th>\n",
       "      <th>tweet_coord</th>\n",
       "      <th>tweet_count</th>\n",
       "      <th>tweet_created</th>\n",
       "      <th>tweet_id</th>\n",
       "      <th>tweet_location</th>\n",
       "      <th>user_timezone</th>\n",
       "    </tr>\n",
       "  </thead>\n",
       "  <tbody>\n",
       "    <tr>\n",
       "      <th>0</th>\n",
       "      <td>815719226</td>\n",
       "      <td>False</td>\n",
       "      <td>finalized</td>\n",
       "      <td>3</td>\n",
       "      <td>10/26/15 23:24</td>\n",
       "      <td>male</td>\n",
       "      <td>1.0000</td>\n",
       "      <td>yes</td>\n",
       "      <td>1.0</td>\n",
       "      <td>12/5/13 1:48</td>\n",
       "      <td>...</td>\n",
       "      <td>https://pbs.twimg.com/profile_images/414342229...</td>\n",
       "      <td>0</td>\n",
       "      <td>FFFFFF</td>\n",
       "      <td>Robbie E Responds To Critics After Win Against...</td>\n",
       "      <td>NaN</td>\n",
       "      <td>110964</td>\n",
       "      <td>10/26/15 12:40</td>\n",
       "      <td>6.587300e+17</td>\n",
       "      <td>main; @Kan1shk3</td>\n",
       "      <td>Chennai</td>\n",
       "    </tr>\n",
       "    <tr>\n",
       "      <th>1</th>\n",
       "      <td>815719227</td>\n",
       "      <td>False</td>\n",
       "      <td>finalized</td>\n",
       "      <td>3</td>\n",
       "      <td>10/26/15 23:30</td>\n",
       "      <td>male</td>\n",
       "      <td>1.0000</td>\n",
       "      <td>yes</td>\n",
       "      <td>1.0</td>\n",
       "      <td>10/1/12 13:51</td>\n",
       "      <td>...</td>\n",
       "      <td>https://pbs.twimg.com/profile_images/539604221...</td>\n",
       "      <td>0</td>\n",
       "      <td>C0DEED</td>\n",
       "      <td>ÛÏIt felt like they were my friends and I was...</td>\n",
       "      <td>NaN</td>\n",
       "      <td>7471</td>\n",
       "      <td>10/26/15 12:40</td>\n",
       "      <td>6.587300e+17</td>\n",
       "      <td>NaN</td>\n",
       "      <td>Eastern Time (US &amp; Canada)</td>\n",
       "    </tr>\n",
       "    <tr>\n",
       "      <th>2</th>\n",
       "      <td>815719228</td>\n",
       "      <td>False</td>\n",
       "      <td>finalized</td>\n",
       "      <td>3</td>\n",
       "      <td>10/26/15 23:33</td>\n",
       "      <td>male</td>\n",
       "      <td>0.6625</td>\n",
       "      <td>yes</td>\n",
       "      <td>1.0</td>\n",
       "      <td>11/28/14 11:30</td>\n",
       "      <td>...</td>\n",
       "      <td>https://pbs.twimg.com/profile_images/657330418...</td>\n",
       "      <td>1</td>\n",
       "      <td>C0DEED</td>\n",
       "      <td>i absolutely adore when louis starts the songs...</td>\n",
       "      <td>NaN</td>\n",
       "      <td>5617</td>\n",
       "      <td>10/26/15 12:40</td>\n",
       "      <td>6.587300e+17</td>\n",
       "      <td>clcncl</td>\n",
       "      <td>Belgrade</td>\n",
       "    </tr>\n",
       "    <tr>\n",
       "      <th>3</th>\n",
       "      <td>815719229</td>\n",
       "      <td>False</td>\n",
       "      <td>finalized</td>\n",
       "      <td>3</td>\n",
       "      <td>10/26/15 23:10</td>\n",
       "      <td>male</td>\n",
       "      <td>1.0000</td>\n",
       "      <td>yes</td>\n",
       "      <td>1.0</td>\n",
       "      <td>6/11/09 22:39</td>\n",
       "      <td>...</td>\n",
       "      <td>https://pbs.twimg.com/profile_images/259703936...</td>\n",
       "      <td>0</td>\n",
       "      <td>C0DEED</td>\n",
       "      <td>Hi @JordanSpieth - Looking at the url - do you...</td>\n",
       "      <td>NaN</td>\n",
       "      <td>1693</td>\n",
       "      <td>10/26/15 12:40</td>\n",
       "      <td>6.587300e+17</td>\n",
       "      <td>Palo Alto, CA</td>\n",
       "      <td>Pacific Time (US &amp; Canada)</td>\n",
       "    </tr>\n",
       "    <tr>\n",
       "      <th>4</th>\n",
       "      <td>815719230</td>\n",
       "      <td>False</td>\n",
       "      <td>finalized</td>\n",
       "      <td>3</td>\n",
       "      <td>10/27/15 1:15</td>\n",
       "      <td>female</td>\n",
       "      <td>1.0000</td>\n",
       "      <td>yes</td>\n",
       "      <td>1.0</td>\n",
       "      <td>4/16/14 13:23</td>\n",
       "      <td>...</td>\n",
       "      <td>https://pbs.twimg.com/profile_images/564094871...</td>\n",
       "      <td>0</td>\n",
       "      <td>0</td>\n",
       "      <td>Watching Neighbours on Sky+ catching up with t...</td>\n",
       "      <td>NaN</td>\n",
       "      <td>31462</td>\n",
       "      <td>10/26/15 12:40</td>\n",
       "      <td>6.587300e+17</td>\n",
       "      <td>NaN</td>\n",
       "      <td>NaN</td>\n",
       "    </tr>\n",
       "  </tbody>\n",
       "</table>\n",
       "<p>5 rows × 26 columns</p>\n",
       "</div>"
      ],
      "text/plain": [
       "    _unit_id  _golden _unit_state  _trusted_judgments _last_judgment_at  \\\n",
       "0  815719226    False   finalized                   3    10/26/15 23:24   \n",
       "1  815719227    False   finalized                   3    10/26/15 23:30   \n",
       "2  815719228    False   finalized                   3    10/26/15 23:33   \n",
       "3  815719229    False   finalized                   3    10/26/15 23:10   \n",
       "4  815719230    False   finalized                   3     10/27/15 1:15   \n",
       "\n",
       "   gender  gender:confidence profile_yn  profile_yn:confidence  \\\n",
       "0    male             1.0000        yes                    1.0   \n",
       "1    male             1.0000        yes                    1.0   \n",
       "2    male             0.6625        yes                    1.0   \n",
       "3    male             1.0000        yes                    1.0   \n",
       "4  female             1.0000        yes                    1.0   \n",
       "\n",
       "          created  ...                                       profileimage  \\\n",
       "0    12/5/13 1:48  ...  https://pbs.twimg.com/profile_images/414342229...   \n",
       "1   10/1/12 13:51  ...  https://pbs.twimg.com/profile_images/539604221...   \n",
       "2  11/28/14 11:30  ...  https://pbs.twimg.com/profile_images/657330418...   \n",
       "3   6/11/09 22:39  ...  https://pbs.twimg.com/profile_images/259703936...   \n",
       "4   4/16/14 13:23  ...  https://pbs.twimg.com/profile_images/564094871...   \n",
       "\n",
       "   retweet_count sidebar_color  \\\n",
       "0              0        FFFFFF   \n",
       "1              0        C0DEED   \n",
       "2              1        C0DEED   \n",
       "3              0        C0DEED   \n",
       "4              0             0   \n",
       "\n",
       "                                                text tweet_coord tweet_count  \\\n",
       "0  Robbie E Responds To Critics After Win Against...         NaN      110964   \n",
       "1  ÛÏIt felt like they were my friends and I was...         NaN        7471   \n",
       "2  i absolutely adore when louis starts the songs...         NaN        5617   \n",
       "3  Hi @JordanSpieth - Looking at the url - do you...         NaN        1693   \n",
       "4  Watching Neighbours on Sky+ catching up with t...         NaN       31462   \n",
       "\n",
       "    tweet_created      tweet_id   tweet_location               user_timezone  \n",
       "0  10/26/15 12:40  6.587300e+17  main; @Kan1shk3                     Chennai  \n",
       "1  10/26/15 12:40  6.587300e+17              NaN  Eastern Time (US & Canada)  \n",
       "2  10/26/15 12:40  6.587300e+17           clcncl                    Belgrade  \n",
       "3  10/26/15 12:40  6.587300e+17    Palo Alto, CA  Pacific Time (US & Canada)  \n",
       "4  10/26/15 12:40  6.587300e+17              NaN                         NaN  \n",
       "\n",
       "[5 rows x 26 columns]"
      ]
     },
     "execution_count": 3,
     "metadata": {},
     "output_type": "execute_result"
    }
   ],
   "source": [
    "data.head()"
   ]
  },
  {
   "cell_type": "code",
   "execution_count": 4,
   "id": "0c53a1a5",
   "metadata": {
    "execution": {
     "iopub.execute_input": "2022-06-20T14:50:48.776041Z",
     "iopub.status.busy": "2022-06-20T14:50:48.775567Z",
     "iopub.status.idle": "2022-06-20T14:50:48.781994Z",
     "shell.execute_reply": "2022-06-20T14:50:48.780921Z"
    },
    "papermill": {
     "duration": 0.036919,
     "end_time": "2022-06-20T14:50:48.784075",
     "exception": false,
     "start_time": "2022-06-20T14:50:48.747156",
     "status": "completed"
    },
    "tags": []
   },
   "outputs": [
    {
     "data": {
      "text/plain": [
       "(20050, 26)"
      ]
     },
     "execution_count": 4,
     "metadata": {},
     "output_type": "execute_result"
    }
   ],
   "source": [
    "data.shape"
   ]
  },
  {
   "cell_type": "code",
   "execution_count": 5,
   "id": "5b911906",
   "metadata": {
    "execution": {
     "iopub.execute_input": "2022-06-20T14:50:48.838677Z",
     "iopub.status.busy": "2022-06-20T14:50:48.838255Z",
     "iopub.status.idle": "2022-06-20T14:50:48.895865Z",
     "shell.execute_reply": "2022-06-20T14:50:48.894284Z"
    },
    "papermill": {
     "duration": 0.088367,
     "end_time": "2022-06-20T14:50:48.898298",
     "exception": false,
     "start_time": "2022-06-20T14:50:48.809931",
     "status": "completed"
    },
    "tags": []
   },
   "outputs": [
    {
     "name": "stdout",
     "output_type": "stream",
     "text": [
      "<class 'pandas.core.frame.DataFrame'>\n",
      "RangeIndex: 20050 entries, 0 to 20049\n",
      "Data columns (total 26 columns):\n",
      " #   Column                 Non-Null Count  Dtype  \n",
      "---  ------                 --------------  -----  \n",
      " 0   _unit_id               20050 non-null  int64  \n",
      " 1   _golden                20050 non-null  bool   \n",
      " 2   _unit_state            20050 non-null  object \n",
      " 3   _trusted_judgments     20050 non-null  int64  \n",
      " 4   _last_judgment_at      20000 non-null  object \n",
      " 5   gender                 19953 non-null  object \n",
      " 6   gender:confidence      20024 non-null  float64\n",
      " 7   profile_yn             20050 non-null  object \n",
      " 8   profile_yn:confidence  20050 non-null  float64\n",
      " 9   created                20050 non-null  object \n",
      " 10  description            16306 non-null  object \n",
      " 11  fav_number             20050 non-null  int64  \n",
      " 12  gender_gold            50 non-null     object \n",
      " 13  link_color             20050 non-null  object \n",
      " 14  name                   20050 non-null  object \n",
      " 15  profile_yn_gold        50 non-null     object \n",
      " 16  profileimage           20050 non-null  object \n",
      " 17  retweet_count          20050 non-null  int64  \n",
      " 18  sidebar_color          20050 non-null  object \n",
      " 19  text                   20050 non-null  object \n",
      " 20  tweet_coord            159 non-null    object \n",
      " 21  tweet_count            20050 non-null  int64  \n",
      " 22  tweet_created          20050 non-null  object \n",
      " 23  tweet_id               20050 non-null  float64\n",
      " 24  tweet_location         12566 non-null  object \n",
      " 25  user_timezone          12252 non-null  object \n",
      "dtypes: bool(1), float64(3), int64(5), object(17)\n",
      "memory usage: 3.8+ MB\n"
     ]
    }
   ],
   "source": [
    "data.info()"
   ]
  },
  {
   "cell_type": "markdown",
   "id": "a51942fd",
   "metadata": {
    "papermill": {
     "duration": 0.026146,
     "end_time": "2022-06-20T14:50:48.950488",
     "exception": false,
     "start_time": "2022-06-20T14:50:48.924342",
     "status": "completed"
    },
    "tags": []
   },
   "source": [
    "# **<span style = \"color:#008514 \">Data Cleaning</span>**"
   ]
  },
  {
   "cell_type": "markdown",
   "id": "1733d462",
   "metadata": {
    "papermill": {
     "duration": 0.026257,
     "end_time": "2022-06-20T14:50:49.002885",
     "exception": false,
     "start_time": "2022-06-20T14:50:48.976628",
     "status": "completed"
    },
    "tags": []
   },
   "source": [
    "### we will be droping the redundant columns from our data"
   ]
  },
  {
   "cell_type": "code",
   "execution_count": 6,
   "id": "f48c0782",
   "metadata": {
    "execution": {
     "iopub.execute_input": "2022-06-20T14:50:49.057407Z",
     "iopub.status.busy": "2022-06-20T14:50:49.056984Z",
     "iopub.status.idle": "2022-06-20T14:50:49.063901Z",
     "shell.execute_reply": "2022-06-20T14:50:49.063234Z"
    },
    "papermill": {
     "duration": 0.036083,
     "end_time": "2022-06-20T14:50:49.065625",
     "exception": false,
     "start_time": "2022-06-20T14:50:49.029542",
     "status": "completed"
    },
    "tags": []
   },
   "outputs": [],
   "source": [
    "data.drop(['_unit_id','_last_judgment_at','created','fav_number','profileimage','retweet_count','tweet_coord',\n",
    "         '_trusted_judgments', 'tweet_count', 'tweet_created', 'tweet_id', 'tweet_location', 'user_timezone', \n",
    "         '_golden','_unit_state', 'gender_gold', 'link_color', 'name', 'profile_yn_gold', 'sidebar_color', \n",
    "         'profile_yn', 'profile_yn:confidence','gender:confidence'], axis=1, inplace=True)"
   ]
  },
  {
   "cell_type": "code",
   "execution_count": 7,
   "id": "86ef5845",
   "metadata": {
    "execution": {
     "iopub.execute_input": "2022-06-20T14:50:49.120102Z",
     "iopub.status.busy": "2022-06-20T14:50:49.119511Z",
     "iopub.status.idle": "2022-06-20T14:50:49.128809Z",
     "shell.execute_reply": "2022-06-20T14:50:49.128132Z"
    },
    "papermill": {
     "duration": 0.039054,
     "end_time": "2022-06-20T14:50:49.130684",
     "exception": false,
     "start_time": "2022-06-20T14:50:49.091630",
     "status": "completed"
    },
    "tags": []
   },
   "outputs": [
    {
     "data": {
      "text/html": [
       "<div>\n",
       "<style scoped>\n",
       "    .dataframe tbody tr th:only-of-type {\n",
       "        vertical-align: middle;\n",
       "    }\n",
       "\n",
       "    .dataframe tbody tr th {\n",
       "        vertical-align: top;\n",
       "    }\n",
       "\n",
       "    .dataframe thead th {\n",
       "        text-align: right;\n",
       "    }\n",
       "</style>\n",
       "<table border=\"1\" class=\"dataframe\">\n",
       "  <thead>\n",
       "    <tr style=\"text-align: right;\">\n",
       "      <th></th>\n",
       "      <th>gender</th>\n",
       "      <th>description</th>\n",
       "      <th>text</th>\n",
       "    </tr>\n",
       "  </thead>\n",
       "  <tbody>\n",
       "    <tr>\n",
       "      <th>0</th>\n",
       "      <td>male</td>\n",
       "      <td>i sing my own rhythm.</td>\n",
       "      <td>Robbie E Responds To Critics After Win Against...</td>\n",
       "    </tr>\n",
       "    <tr>\n",
       "      <th>1</th>\n",
       "      <td>male</td>\n",
       "      <td>I'm the author of novels filled with family dr...</td>\n",
       "      <td>ÛÏIt felt like they were my friends and I was...</td>\n",
       "    </tr>\n",
       "    <tr>\n",
       "      <th>2</th>\n",
       "      <td>male</td>\n",
       "      <td>louis whining and squealing and all</td>\n",
       "      <td>i absolutely adore when louis starts the songs...</td>\n",
       "    </tr>\n",
       "    <tr>\n",
       "      <th>3</th>\n",
       "      <td>male</td>\n",
       "      <td>Mobile guy.  49ers, Shazam, Google, Kleiner Pe...</td>\n",
       "      <td>Hi @JordanSpieth - Looking at the url - do you...</td>\n",
       "    </tr>\n",
       "    <tr>\n",
       "      <th>4</th>\n",
       "      <td>female</td>\n",
       "      <td>Ricky Wilson The Best FRONTMAN/Kaiser Chiefs T...</td>\n",
       "      <td>Watching Neighbours on Sky+ catching up with t...</td>\n",
       "    </tr>\n",
       "  </tbody>\n",
       "</table>\n",
       "</div>"
      ],
      "text/plain": [
       "   gender                                        description  \\\n",
       "0    male                              i sing my own rhythm.   \n",
       "1    male  I'm the author of novels filled with family dr...   \n",
       "2    male                louis whining and squealing and all   \n",
       "3    male  Mobile guy.  49ers, Shazam, Google, Kleiner Pe...   \n",
       "4  female  Ricky Wilson The Best FRONTMAN/Kaiser Chiefs T...   \n",
       "\n",
       "                                                text  \n",
       "0  Robbie E Responds To Critics After Win Against...  \n",
       "1  ÛÏIt felt like they were my friends and I was...  \n",
       "2  i absolutely adore when louis starts the songs...  \n",
       "3  Hi @JordanSpieth - Looking at the url - do you...  \n",
       "4  Watching Neighbours on Sky+ catching up with t...  "
      ]
     },
     "execution_count": 7,
     "metadata": {},
     "output_type": "execute_result"
    }
   ],
   "source": [
    "data.head()"
   ]
  },
  {
   "cell_type": "markdown",
   "id": "8b9c93d8",
   "metadata": {
    "papermill": {
     "duration": 0.026096,
     "end_time": "2022-06-20T14:50:49.183574",
     "exception": false,
     "start_time": "2022-06-20T14:50:49.157478",
     "status": "completed"
    },
    "tags": []
   },
   "source": [
    "### we will check for null values"
   ]
  },
  {
   "cell_type": "code",
   "execution_count": 8,
   "id": "ae57acec",
   "metadata": {
    "execution": {
     "iopub.execute_input": "2022-06-20T14:50:49.238852Z",
     "iopub.status.busy": "2022-06-20T14:50:49.238207Z",
     "iopub.status.idle": "2022-06-20T14:50:49.252947Z",
     "shell.execute_reply": "2022-06-20T14:50:49.252215Z"
    },
    "papermill": {
     "duration": 0.045003,
     "end_time": "2022-06-20T14:50:49.255028",
     "exception": false,
     "start_time": "2022-06-20T14:50:49.210025",
     "status": "completed"
    },
    "tags": []
   },
   "outputs": [
    {
     "data": {
      "text/plain": [
       "gender           97\n",
       "description    3744\n",
       "text              0\n",
       "dtype: int64"
      ]
     },
     "execution_count": 8,
     "metadata": {},
     "output_type": "execute_result"
    }
   ],
   "source": [
    "data.isna().sum()"
   ]
  },
  {
   "cell_type": "markdown",
   "id": "7392d959",
   "metadata": {
    "papermill": {
     "duration": 0.026242,
     "end_time": "2022-06-20T14:50:49.307829",
     "exception": false,
     "start_time": "2022-06-20T14:50:49.281587",
     "status": "completed"
    },
    "tags": []
   },
   "source": [
    "### Will drop the rows with null values"
   ]
  },
  {
   "cell_type": "code",
   "execution_count": 9,
   "id": "d10e2ab2",
   "metadata": {
    "execution": {
     "iopub.execute_input": "2022-06-20T14:50:49.362826Z",
     "iopub.status.busy": "2022-06-20T14:50:49.362212Z",
     "iopub.status.idle": "2022-06-20T14:50:49.375745Z",
     "shell.execute_reply": "2022-06-20T14:50:49.375019Z"
    },
    "papermill": {
     "duration": 0.043507,
     "end_time": "2022-06-20T14:50:49.377988",
     "exception": false,
     "start_time": "2022-06-20T14:50:49.334481",
     "status": "completed"
    },
    "tags": []
   },
   "outputs": [],
   "source": [
    "data.dropna(axis = 0, inplace = True)"
   ]
  },
  {
   "cell_type": "markdown",
   "id": "f23d8084",
   "metadata": {
    "papermill": {
     "duration": 0.026965,
     "end_time": "2022-06-20T14:50:49.431490",
     "exception": false,
     "start_time": "2022-06-20T14:50:49.404525",
     "status": "completed"
    },
    "tags": []
   },
   "source": [
    "### Let's count the gender column"
   ]
  },
  {
   "cell_type": "code",
   "execution_count": 10,
   "id": "1ee696d1",
   "metadata": {
    "execution": {
     "iopub.execute_input": "2022-06-20T14:50:49.486400Z",
     "iopub.status.busy": "2022-06-20T14:50:49.485716Z",
     "iopub.status.idle": "2022-06-20T14:50:49.495311Z",
     "shell.execute_reply": "2022-06-20T14:50:49.494386Z"
    },
    "papermill": {
     "duration": 0.039338,
     "end_time": "2022-06-20T14:50:49.497310",
     "exception": false,
     "start_time": "2022-06-20T14:50:49.457972",
     "status": "completed"
    },
    "tags": []
   },
   "outputs": [
    {
     "data": {
      "text/plain": [
       "female     5725\n",
       "male       5469\n",
       "brand      4328\n",
       "unknown     702\n",
       "Name: gender, dtype: int64"
      ]
     },
     "execution_count": 10,
     "metadata": {},
     "output_type": "execute_result"
    }
   ],
   "source": [
    "data['gender'].value_counts()"
   ]
  },
  {
   "cell_type": "markdown",
   "id": "0cf41c01",
   "metadata": {
    "papermill": {
     "duration": 0.026258,
     "end_time": "2022-06-20T14:50:49.550106",
     "exception": false,
     "start_time": "2022-06-20T14:50:49.523848",
     "status": "completed"
    },
    "tags": []
   },
   "source": [
    "### we will only keep the male and female variables and drop the others."
   ]
  },
  {
   "cell_type": "code",
   "execution_count": 11,
   "id": "14195462",
   "metadata": {
    "execution": {
     "iopub.execute_input": "2022-06-20T14:50:49.604886Z",
     "iopub.status.busy": "2022-06-20T14:50:49.604292Z",
     "iopub.status.idle": "2022-06-20T14:50:49.615941Z",
     "shell.execute_reply": "2022-06-20T14:50:49.615092Z"
    },
    "papermill": {
     "duration": 0.041653,
     "end_time": "2022-06-20T14:50:49.618384",
     "exception": false,
     "start_time": "2022-06-20T14:50:49.576731",
     "status": "completed"
    },
    "tags": []
   },
   "outputs": [],
   "source": [
    "data = data[(data.gender == 'female') | (data.gender == 'male')]"
   ]
  },
  {
   "cell_type": "markdown",
   "id": "67c99354",
   "metadata": {
    "papermill": {
     "duration": 0.026945,
     "end_time": "2022-06-20T14:50:49.671828",
     "exception": false,
     "start_time": "2022-06-20T14:50:49.644883",
     "status": "completed"
    },
    "tags": []
   },
   "source": [
    "### And check the counts again"
   ]
  },
  {
   "cell_type": "code",
   "execution_count": 12,
   "id": "36099ce9",
   "metadata": {
    "execution": {
     "iopub.execute_input": "2022-06-20T14:50:49.726425Z",
     "iopub.status.busy": "2022-06-20T14:50:49.725984Z",
     "iopub.status.idle": "2022-06-20T14:50:49.734865Z",
     "shell.execute_reply": "2022-06-20T14:50:49.734128Z"
    },
    "papermill": {
     "duration": 0.038966,
     "end_time": "2022-06-20T14:50:49.736955",
     "exception": false,
     "start_time": "2022-06-20T14:50:49.697989",
     "status": "completed"
    },
    "tags": []
   },
   "outputs": [
    {
     "data": {
      "text/plain": [
       "female    5725\n",
       "male      5469\n",
       "Name: gender, dtype: int64"
      ]
     },
     "execution_count": 12,
     "metadata": {},
     "output_type": "execute_result"
    }
   ],
   "source": [
    "data['gender'].value_counts()"
   ]
  },
  {
   "cell_type": "markdown",
   "id": "d40e21a9",
   "metadata": {
    "papermill": {
     "duration": 0.026017,
     "end_time": "2022-06-20T14:50:49.789468",
     "exception": false,
     "start_time": "2022-06-20T14:50:49.763451",
     "status": "completed"
    },
    "tags": []
   },
   "source": [
    "# **<span style = \"color:#008514 \">Data Preprocessing</span>**"
   ]
  },
  {
   "cell_type": "markdown",
   "id": "9a525b69",
   "metadata": {
    "papermill": {
     "duration": 0.028257,
     "end_time": "2022-06-20T14:50:49.844618",
     "exception": false,
     "start_time": "2022-06-20T14:50:49.816361",
     "status": "completed"
    },
    "tags": []
   },
   "source": [
    "### we will encode male and female category as 1 and 0"
   ]
  },
  {
   "cell_type": "code",
   "execution_count": 13,
   "id": "f4d5394d",
   "metadata": {
    "execution": {
     "iopub.execute_input": "2022-06-20T14:50:49.901732Z",
     "iopub.status.busy": "2022-06-20T14:50:49.901042Z",
     "iopub.status.idle": "2022-06-20T14:50:49.923305Z",
     "shell.execute_reply": "2022-06-20T14:50:49.922536Z"
    },
    "papermill": {
     "duration": 0.053136,
     "end_time": "2022-06-20T14:50:49.925386",
     "exception": false,
     "start_time": "2022-06-20T14:50:49.872250",
     "status": "completed"
    },
    "tags": []
   },
   "outputs": [
    {
     "data": {
      "text/plain": [
       "0    5725\n",
       "1    5469\n",
       "Name: gender, dtype: int64"
      ]
     },
     "execution_count": 13,
     "metadata": {},
     "output_type": "execute_result"
    }
   ],
   "source": [
    "for gen in data['gender']:\n",
    "    if gen == 'male':\n",
    "        data['gender'].replace({'male':1}, inplace = True)\n",
    "    elif gen == 'female':\n",
    "        data['gender'].replace({'female':0}, inplace = True)\n",
    "\n",
    "data['gender'].value_counts()"
   ]
  },
  {
   "cell_type": "markdown",
   "id": "92f2d7ef",
   "metadata": {
    "papermill": {
     "duration": 0.026376,
     "end_time": "2022-06-20T14:50:49.978951",
     "exception": false,
     "start_time": "2022-06-20T14:50:49.952575",
     "status": "completed"
    },
    "tags": []
   },
   "source": [
    "## **<span style = \"color:#2de34f \">Cleaning Text</span>**"
   ]
  },
  {
   "cell_type": "markdown",
   "id": "73be948e",
   "metadata": {
    "papermill": {
     "duration": 0.026629,
     "end_time": "2022-06-20T14:50:50.032407",
     "exception": false,
     "start_time": "2022-06-20T14:50:50.005778",
     "status": "completed"
    },
    "tags": []
   },
   "source": [
    "### we will be cleaning the description column"
   ]
  },
  {
   "cell_type": "code",
   "execution_count": 14,
   "id": "ed3c4255",
   "metadata": {
    "execution": {
     "iopub.execute_input": "2022-06-20T14:50:50.087539Z",
     "iopub.status.busy": "2022-06-20T14:50:50.086898Z",
     "iopub.status.idle": "2022-06-20T14:50:50.230013Z",
     "shell.execute_reply": "2022-06-20T14:50:50.229359Z"
    },
    "papermill": {
     "duration": 0.173063,
     "end_time": "2022-06-20T14:50:50.232023",
     "exception": false,
     "start_time": "2022-06-20T14:50:50.058960",
     "status": "completed"
    },
    "tags": []
   },
   "outputs": [
    {
     "data": {
      "text/html": [
       "<div>\n",
       "<style scoped>\n",
       "    .dataframe tbody tr th:only-of-type {\n",
       "        vertical-align: middle;\n",
       "    }\n",
       "\n",
       "    .dataframe tbody tr th {\n",
       "        vertical-align: top;\n",
       "    }\n",
       "\n",
       "    .dataframe thead th {\n",
       "        text-align: right;\n",
       "    }\n",
       "</style>\n",
       "<table border=\"1\" class=\"dataframe\">\n",
       "  <thead>\n",
       "    <tr style=\"text-align: right;\">\n",
       "      <th></th>\n",
       "      <th>gender</th>\n",
       "      <th>description</th>\n",
       "      <th>text</th>\n",
       "      <th>descrip_cleaned</th>\n",
       "    </tr>\n",
       "  </thead>\n",
       "  <tbody>\n",
       "    <tr>\n",
       "      <th>0</th>\n",
       "      <td>1</td>\n",
       "      <td>i sing my own rhythm.</td>\n",
       "      <td>Robbie E Responds To Critics After Win Against...</td>\n",
       "      <td>i sing my own rhythm.</td>\n",
       "    </tr>\n",
       "    <tr>\n",
       "      <th>1</th>\n",
       "      <td>1</td>\n",
       "      <td>I'm the author of novels filled with family dr...</td>\n",
       "      <td>ÛÏIt felt like they were my friends and I was...</td>\n",
       "      <td>i'm the author of novels filled with family dr...</td>\n",
       "    </tr>\n",
       "    <tr>\n",
       "      <th>2</th>\n",
       "      <td>1</td>\n",
       "      <td>louis whining and squealing and all</td>\n",
       "      <td>i absolutely adore when louis starts the songs...</td>\n",
       "      <td>louis whining and squealing and all</td>\n",
       "    </tr>\n",
       "    <tr>\n",
       "      <th>3</th>\n",
       "      <td>1</td>\n",
       "      <td>Mobile guy.  49ers, Shazam, Google, Kleiner Pe...</td>\n",
       "      <td>Hi @JordanSpieth - Looking at the url - do you...</td>\n",
       "      <td>mobile guy.  49ers, shazam, google, kleiner pe...</td>\n",
       "    </tr>\n",
       "    <tr>\n",
       "      <th>4</th>\n",
       "      <td>0</td>\n",
       "      <td>Ricky Wilson The Best FRONTMAN/Kaiser Chiefs T...</td>\n",
       "      <td>Watching Neighbours on Sky+ catching up with t...</td>\n",
       "      <td>ricky wilson the best frontman/kaiser chiefs t...</td>\n",
       "    </tr>\n",
       "  </tbody>\n",
       "</table>\n",
       "</div>"
      ],
      "text/plain": [
       "   gender                                        description  \\\n",
       "0       1                              i sing my own rhythm.   \n",
       "1       1  I'm the author of novels filled with family dr...   \n",
       "2       1                louis whining and squealing and all   \n",
       "3       1  Mobile guy.  49ers, Shazam, Google, Kleiner Pe...   \n",
       "4       0  Ricky Wilson The Best FRONTMAN/Kaiser Chiefs T...   \n",
       "\n",
       "                                                text  \\\n",
       "0  Robbie E Responds To Critics After Win Against...   \n",
       "1  ÛÏIt felt like they were my friends and I was...   \n",
       "2  i absolutely adore when louis starts the songs...   \n",
       "3  Hi @JordanSpieth - Looking at the url - do you...   \n",
       "4  Watching Neighbours on Sky+ catching up with t...   \n",
       "\n",
       "                                     descrip_cleaned  \n",
       "0                              i sing my own rhythm.  \n",
       "1  i'm the author of novels filled with family dr...  \n",
       "2                louis whining and squealing and all  \n",
       "3  mobile guy.  49ers, shazam, google, kleiner pe...  \n",
       "4  ricky wilson the best frontman/kaiser chiefs t...  "
      ]
     },
     "execution_count": 14,
     "metadata": {},
     "output_type": "execute_result"
    }
   ],
   "source": [
    "def clean(review):\n",
    "\n",
    "    descrip = re.sub('[^a-zA-Z]', ' ', review)\n",
    "\n",
    "    review = review.lower()\n",
    "    return review\n",
    "\n",
    "data['descrip_cleaned'] = pd.DataFrame(data['description'].apply(lambda x: clean(x)))\n",
    "\n",
    "data.head()"
   ]
  },
  {
   "cell_type": "code",
   "execution_count": 15,
   "id": "18618aa2",
   "metadata": {
    "execution": {
     "iopub.execute_input": "2022-06-20T14:50:50.288850Z",
     "iopub.status.busy": "2022-06-20T14:50:50.288220Z",
     "iopub.status.idle": "2022-06-20T14:50:50.437655Z",
     "shell.execute_reply": "2022-06-20T14:50:50.436692Z"
    },
    "papermill": {
     "duration": 0.179843,
     "end_time": "2022-06-20T14:50:50.440025",
     "exception": false,
     "start_time": "2022-06-20T14:50:50.260182",
     "status": "completed"
    },
    "tags": []
   },
   "outputs": [],
   "source": [
    "data['descrip_cleaned'].replace('[@+]', \"\", regex=True,inplace=True)\n",
    "data['descrip_cleaned'].replace('[()]', \"\", regex=True,inplace=True)\n",
    "data['descrip_cleaned'].replace('[#+]', \"\", regex=True,inplace=True)\n",
    "url_regex = '''(?i)\\b((?:https?://|www\\d{0,3}[.]|[a-z0-9.\\-]+[.][a-z]{2,4}/)(?:[^\\s()<>]+|\\(([^\\s()<>]+|(\\([^\\s()<>]+\\)))*\\))+(?:\\(([^\\s()<>]+|(\\([^\\s()<>]+\\)))*\\)|[^\\s`!()\\[\\]{};:'\".,<>?«»“”‘’]))'''\n",
    "data['descrip_cleaned'] = data['descrip_cleaned'].replace(url_regex, \"\", regex=True)\n"
   ]
  },
  {
   "cell_type": "code",
   "execution_count": 16,
   "id": "5bceb730",
   "metadata": {
    "execution": {
     "iopub.execute_input": "2022-06-20T14:50:50.495736Z",
     "iopub.status.busy": "2022-06-20T14:50:50.495323Z",
     "iopub.status.idle": "2022-06-20T14:50:50.506839Z",
     "shell.execute_reply": "2022-06-20T14:50:50.505880Z"
    },
    "papermill": {
     "duration": 0.041942,
     "end_time": "2022-06-20T14:50:50.508962",
     "exception": false,
     "start_time": "2022-06-20T14:50:50.467020",
     "status": "completed"
    },
    "tags": []
   },
   "outputs": [
    {
     "data": {
      "text/html": [
       "<div>\n",
       "<style scoped>\n",
       "    .dataframe tbody tr th:only-of-type {\n",
       "        vertical-align: middle;\n",
       "    }\n",
       "\n",
       "    .dataframe tbody tr th {\n",
       "        vertical-align: top;\n",
       "    }\n",
       "\n",
       "    .dataframe thead th {\n",
       "        text-align: right;\n",
       "    }\n",
       "</style>\n",
       "<table border=\"1\" class=\"dataframe\">\n",
       "  <thead>\n",
       "    <tr style=\"text-align: right;\">\n",
       "      <th></th>\n",
       "      <th>gender</th>\n",
       "      <th>description</th>\n",
       "      <th>text</th>\n",
       "      <th>descrip_cleaned</th>\n",
       "    </tr>\n",
       "  </thead>\n",
       "  <tbody>\n",
       "    <tr>\n",
       "      <th>0</th>\n",
       "      <td>1</td>\n",
       "      <td>i sing my own rhythm.</td>\n",
       "      <td>Robbie E Responds To Critics After Win Against...</td>\n",
       "      <td>i sing my own rhythm.</td>\n",
       "    </tr>\n",
       "    <tr>\n",
       "      <th>1</th>\n",
       "      <td>1</td>\n",
       "      <td>I'm the author of novels filled with family dr...</td>\n",
       "      <td>ÛÏIt felt like they were my friends and I was...</td>\n",
       "      <td>i'm the author of novels filled with family dr...</td>\n",
       "    </tr>\n",
       "    <tr>\n",
       "      <th>2</th>\n",
       "      <td>1</td>\n",
       "      <td>louis whining and squealing and all</td>\n",
       "      <td>i absolutely adore when louis starts the songs...</td>\n",
       "      <td>louis whining and squealing and all</td>\n",
       "    </tr>\n",
       "    <tr>\n",
       "      <th>3</th>\n",
       "      <td>1</td>\n",
       "      <td>Mobile guy.  49ers, Shazam, Google, Kleiner Pe...</td>\n",
       "      <td>Hi @JordanSpieth - Looking at the url - do you...</td>\n",
       "      <td>mobile guy.  49ers, shazam, google, kleiner pe...</td>\n",
       "    </tr>\n",
       "    <tr>\n",
       "      <th>4</th>\n",
       "      <td>0</td>\n",
       "      <td>Ricky Wilson The Best FRONTMAN/Kaiser Chiefs T...</td>\n",
       "      <td>Watching Neighbours on Sky+ catching up with t...</td>\n",
       "      <td>ricky wilson the best frontman/kaiser chiefs t...</td>\n",
       "    </tr>\n",
       "  </tbody>\n",
       "</table>\n",
       "</div>"
      ],
      "text/plain": [
       "   gender                                        description  \\\n",
       "0       1                              i sing my own rhythm.   \n",
       "1       1  I'm the author of novels filled with family dr...   \n",
       "2       1                louis whining and squealing and all   \n",
       "3       1  Mobile guy.  49ers, Shazam, Google, Kleiner Pe...   \n",
       "4       0  Ricky Wilson The Best FRONTMAN/Kaiser Chiefs T...   \n",
       "\n",
       "                                                text  \\\n",
       "0  Robbie E Responds To Critics After Win Against...   \n",
       "1  ÛÏIt felt like they were my friends and I was...   \n",
       "2  i absolutely adore when louis starts the songs...   \n",
       "3  Hi @JordanSpieth - Looking at the url - do you...   \n",
       "4  Watching Neighbours on Sky+ catching up with t...   \n",
       "\n",
       "                                     descrip_cleaned  \n",
       "0                              i sing my own rhythm.  \n",
       "1  i'm the author of novels filled with family dr...  \n",
       "2                louis whining and squealing and all  \n",
       "3  mobile guy.  49ers, shazam, google, kleiner pe...  \n",
       "4  ricky wilson the best frontman/kaiser chiefs t...  "
      ]
     },
     "execution_count": 16,
     "metadata": {},
     "output_type": "execute_result"
    }
   ],
   "source": [
    "data.head()"
   ]
  },
  {
   "cell_type": "markdown",
   "id": "e08294d4",
   "metadata": {
    "papermill": {
     "duration": 0.027162,
     "end_time": "2022-06-20T14:50:50.563916",
     "exception": false,
     "start_time": "2022-06-20T14:50:50.536754",
     "status": "completed"
    },
    "tags": []
   },
   "source": [
    "## **<span style = \"color:#2de34f \">Tokenize the cleaned descriptions</span>**"
   ]
  },
  {
   "cell_type": "markdown",
   "id": "000d405a",
   "metadata": {
    "papermill": {
     "duration": 0.026933,
     "end_time": "2022-06-20T14:50:50.618291",
     "exception": false,
     "start_time": "2022-06-20T14:50:50.591358",
     "status": "completed"
    },
    "tags": []
   },
   "source": [
    "### Tokenization is the process of breaking text into smaller pieces which we know as tokens. More about Tokenization in this [link](https://www.tokenex.com/resource-center/what-is-tokenization)"
   ]
  },
  {
   "cell_type": "code",
   "execution_count": 17,
   "id": "e9610e2b",
   "metadata": {
    "execution": {
     "iopub.execute_input": "2022-06-20T14:50:50.674565Z",
     "iopub.status.busy": "2022-06-20T14:50:50.674132Z",
     "iopub.status.idle": "2022-06-20T14:50:54.159460Z",
     "shell.execute_reply": "2022-06-20T14:50:54.158527Z"
    },
    "papermill": {
     "duration": 3.516366,
     "end_time": "2022-06-20T14:50:54.161918",
     "exception": false,
     "start_time": "2022-06-20T14:50:50.645552",
     "status": "completed"
    },
    "tags": []
   },
   "outputs": [],
   "source": [
    "data['descrip_cleaned'] = [nltk.word_tokenize(tweet) for tweet in data['descrip_cleaned']]\n",
    "descrip_new = []\n",
    "for each_row in data['descrip_cleaned']:\n",
    "    descrip_new.append([i for i in each_row if i.isalpha()])\n",
    "descrip_new_alpha = []\n"
   ]
  },
  {
   "cell_type": "markdown",
   "id": "8ce57977",
   "metadata": {
    "papermill": {
     "duration": 0.026847,
     "end_time": "2022-06-20T14:50:54.216085",
     "exception": false,
     "start_time": "2022-06-20T14:50:54.189238",
     "status": "completed"
    },
    "tags": []
   },
   "source": [
    "## **<span style = \"color:#2de34f \">Stopwords Removal</span>**\n",
    "### stop words don't add any meaning to the sentences. we will remove them"
   ]
  },
  {
   "cell_type": "code",
   "execution_count": 18,
   "id": "b124adcc",
   "metadata": {
    "execution": {
     "iopub.execute_input": "2022-06-20T14:50:54.271927Z",
     "iopub.status.busy": "2022-06-20T14:50:54.271511Z",
     "iopub.status.idle": "2022-06-20T14:50:54.305250Z",
     "shell.execute_reply": "2022-06-20T14:50:54.304311Z"
    },
    "papermill": {
     "duration": 0.064655,
     "end_time": "2022-06-20T14:50:54.307897",
     "exception": false,
     "start_time": "2022-06-20T14:50:54.243242",
     "status": "completed"
    },
    "tags": []
   },
   "outputs": [],
   "source": [
    "stop_words = set(stopwords.words('english'))\n",
    "# now remove them from the list\n",
    "for each_row in descrip_new:\n",
    "    descrip_new_alpha.append([i for i in each_row if i not in stop_words])"
   ]
  },
  {
   "cell_type": "markdown",
   "id": "cd658e78",
   "metadata": {
    "papermill": {
     "duration": 0.027289,
     "end_time": "2022-06-20T14:50:54.362833",
     "exception": false,
     "start_time": "2022-06-20T14:50:54.335544",
     "status": "completed"
    },
    "tags": []
   },
   "source": [
    "## **<span style = \"color:#2de34f \">Lemmatization</span>**\n",
    "\n",
    "### Lemmatization is the process of grouping together the different inflected forms of a word so they can be analyzed as a single item. Lemmatization is similar to stemming but it brings context to the words. So it links words with similar meanings to one word."
   ]
  },
  {
   "cell_type": "code",
   "execution_count": 19,
   "id": "f2811a9f",
   "metadata": {
    "execution": {
     "iopub.execute_input": "2022-06-20T14:50:54.419472Z",
     "iopub.status.busy": "2022-06-20T14:50:54.419064Z",
     "iopub.status.idle": "2022-06-20T14:50:57.146883Z",
     "shell.execute_reply": "2022-06-20T14:50:57.145572Z"
    },
    "papermill": {
     "duration": 2.758924,
     "end_time": "2022-06-20T14:50:57.149234",
     "exception": false,
     "start_time": "2022-06-20T14:50:54.390310",
     "status": "completed"
    },
    "tags": []
   },
   "outputs": [],
   "source": [
    "description_new_lemma = []\n",
    "lemma = nltk.WordNetLemmatizer()\n",
    "for each_row in descrip_new_alpha:\n",
    "    description_new_lemma.append([lemma.lemmatize(word) for word in each_row])\n",
    "#put back the new sentences\n",
    "data['descrip_cleaned'] = description_new_lemma\n",
    "data['descrip_cleaned'] = [\" \".join(desc) for desc in data['descrip_cleaned'].values]"
   ]
  },
  {
   "cell_type": "markdown",
   "id": "40f84345",
   "metadata": {
    "execution": {
     "iopub.execute_input": "2022-06-20T13:13:36.294151Z",
     "iopub.status.busy": "2022-06-20T13:13:36.293740Z",
     "iopub.status.idle": "2022-06-20T13:13:36.307489Z",
     "shell.execute_reply": "2022-06-20T13:13:36.306506Z",
     "shell.execute_reply.started": "2022-06-20T13:13:36.294118Z"
    },
    "papermill": {
     "duration": 0.027635,
     "end_time": "2022-06-20T14:50:57.204872",
     "exception": false,
     "start_time": "2022-06-20T14:50:57.177237",
     "status": "completed"
    },
    "tags": []
   },
   "source": [
    "## **<span style = \"color:#2de34f \">Text cleaning of the 'text' column</span>**\n",
    "### whatever we've done for the 'description' column, will do that for 'text' column too"
   ]
  },
  {
   "cell_type": "code",
   "execution_count": 20,
   "id": "b16fc38d",
   "metadata": {
    "execution": {
     "iopub.execute_input": "2022-06-20T14:50:57.261917Z",
     "iopub.status.busy": "2022-06-20T14:50:57.261508Z",
     "iopub.status.idle": "2022-06-20T14:50:57.423235Z",
     "shell.execute_reply": "2022-06-20T14:50:57.422320Z"
    },
    "papermill": {
     "duration": 0.193161,
     "end_time": "2022-06-20T14:50:57.425752",
     "exception": false,
     "start_time": "2022-06-20T14:50:57.232591",
     "status": "completed"
    },
    "tags": []
   },
   "outputs": [
    {
     "data": {
      "text/html": [
       "<div>\n",
       "<style scoped>\n",
       "    .dataframe tbody tr th:only-of-type {\n",
       "        vertical-align: middle;\n",
       "    }\n",
       "\n",
       "    .dataframe tbody tr th {\n",
       "        vertical-align: top;\n",
       "    }\n",
       "\n",
       "    .dataframe thead th {\n",
       "        text-align: right;\n",
       "    }\n",
       "</style>\n",
       "<table border=\"1\" class=\"dataframe\">\n",
       "  <thead>\n",
       "    <tr style=\"text-align: right;\">\n",
       "      <th></th>\n",
       "      <th>gender</th>\n",
       "      <th>description</th>\n",
       "      <th>text</th>\n",
       "      <th>descrip_cleaned</th>\n",
       "      <th>text_cleaned</th>\n",
       "    </tr>\n",
       "  </thead>\n",
       "  <tbody>\n",
       "    <tr>\n",
       "      <th>0</th>\n",
       "      <td>1</td>\n",
       "      <td>i sing my own rhythm.</td>\n",
       "      <td>Robbie E Responds To Critics After Win Against...</td>\n",
       "      <td>sing rhythm</td>\n",
       "      <td>robbie e responds to critics after win against...</td>\n",
       "    </tr>\n",
       "    <tr>\n",
       "      <th>1</th>\n",
       "      <td>1</td>\n",
       "      <td>I'm the author of novels filled with family dr...</td>\n",
       "      <td>ÛÏIt felt like they were my friends and I was...</td>\n",
       "      <td>author novel filled family drama romance</td>\n",
       "      <td>ûïit felt like they were my friends and i was...</td>\n",
       "    </tr>\n",
       "    <tr>\n",
       "      <th>2</th>\n",
       "      <td>1</td>\n",
       "      <td>louis whining and squealing and all</td>\n",
       "      <td>i absolutely adore when louis starts the songs...</td>\n",
       "      <td>louis whining squealing</td>\n",
       "      <td>i absolutely adore when louis starts the songs...</td>\n",
       "    </tr>\n",
       "    <tr>\n",
       "      <th>3</th>\n",
       "      <td>1</td>\n",
       "      <td>Mobile guy.  49ers, Shazam, Google, Kleiner Pe...</td>\n",
       "      <td>Hi @JordanSpieth - Looking at the url - do you...</td>\n",
       "      <td>mobile guy shazam google kleiner perkins yahoo...</td>\n",
       "      <td>hi @jordanspieth - looking at the url - do you...</td>\n",
       "    </tr>\n",
       "    <tr>\n",
       "      <th>4</th>\n",
       "      <td>0</td>\n",
       "      <td>Ricky Wilson The Best FRONTMAN/Kaiser Chiefs T...</td>\n",
       "      <td>Watching Neighbours on Sky+ catching up with t...</td>\n",
       "      <td>ricky wilson best chief best band xxxx thank k...</td>\n",
       "      <td>watching neighbours on sky+ catching up with t...</td>\n",
       "    </tr>\n",
       "  </tbody>\n",
       "</table>\n",
       "</div>"
      ],
      "text/plain": [
       "   gender                                        description  \\\n",
       "0       1                              i sing my own rhythm.   \n",
       "1       1  I'm the author of novels filled with family dr...   \n",
       "2       1                louis whining and squealing and all   \n",
       "3       1  Mobile guy.  49ers, Shazam, Google, Kleiner Pe...   \n",
       "4       0  Ricky Wilson The Best FRONTMAN/Kaiser Chiefs T...   \n",
       "\n",
       "                                                text  \\\n",
       "0  Robbie E Responds To Critics After Win Against...   \n",
       "1  ÛÏIt felt like they were my friends and I was...   \n",
       "2  i absolutely adore when louis starts the songs...   \n",
       "3  Hi @JordanSpieth - Looking at the url - do you...   \n",
       "4  Watching Neighbours on Sky+ catching up with t...   \n",
       "\n",
       "                                     descrip_cleaned  \\\n",
       "0                                        sing rhythm   \n",
       "1           author novel filled family drama romance   \n",
       "2                            louis whining squealing   \n",
       "3  mobile guy shazam google kleiner perkins yahoo...   \n",
       "4  ricky wilson best chief best band xxxx thank k...   \n",
       "\n",
       "                                        text_cleaned  \n",
       "0  robbie e responds to critics after win against...  \n",
       "1  ûïit felt like they were my friends and i was...  \n",
       "2  i absolutely adore when louis starts the songs...  \n",
       "3  hi @jordanspieth - looking at the url - do you...  \n",
       "4  watching neighbours on sky+ catching up with t...  "
      ]
     },
     "execution_count": 20,
     "metadata": {},
     "output_type": "execute_result"
    }
   ],
   "source": [
    "data['text_cleaned'] = pd.DataFrame(data['text'].apply(lambda y: clean(y)))\n",
    "data.head()"
   ]
  },
  {
   "cell_type": "code",
   "execution_count": 21,
   "id": "e7deef22",
   "metadata": {
    "execution": {
     "iopub.execute_input": "2022-06-20T14:50:57.483107Z",
     "iopub.status.busy": "2022-06-20T14:50:57.482692Z",
     "iopub.status.idle": "2022-06-20T14:50:57.647296Z",
     "shell.execute_reply": "2022-06-20T14:50:57.646362Z"
    },
    "papermill": {
     "duration": 0.195828,
     "end_time": "2022-06-20T14:50:57.649709",
     "exception": false,
     "start_time": "2022-06-20T14:50:57.453881",
     "status": "completed"
    },
    "tags": []
   },
   "outputs": [],
   "source": [
    "data['text_cleaned'].replace('[@+]', \"\", regex=True,inplace=True)\n",
    "data['text_cleaned'].replace('[()]', \"\", regex=True,inplace=True)\n",
    "data['text_cleaned'].replace('[#+]', \"\", regex=True,inplace=True)\n",
    "url_regex = '''(?i)\\b((?:https?://|www\\d{0,3}[.]|[a-z0-9.\\-]+[.][a-z]{2,4}/)(?:[^\\s()<>]+|\\(([^\\s()<>]+|(\\([^\\s()<>]+\\)))*\\))+(?:\\(([^\\s()<>]+|(\\([^\\s()<>]+\\)))*\\)|[^\\s`!()\\[\\]{};:'\".,<>?«»“”‘’]))'''\n",
    "data['text_cleaned'] = data['text_cleaned'].replace(url_regex, \"\", regex=True)"
   ]
  },
  {
   "cell_type": "code",
   "execution_count": 22,
   "id": "334ef952",
   "metadata": {
    "execution": {
     "iopub.execute_input": "2022-06-20T14:50:57.706627Z",
     "iopub.status.busy": "2022-06-20T14:50:57.706243Z",
     "iopub.status.idle": "2022-06-20T14:51:01.108725Z",
     "shell.execute_reply": "2022-06-20T14:51:01.107680Z"
    },
    "papermill": {
     "duration": 3.43366,
     "end_time": "2022-06-20T14:51:01.111101",
     "exception": false,
     "start_time": "2022-06-20T14:50:57.677441",
     "status": "completed"
    },
    "tags": []
   },
   "outputs": [],
   "source": [
    "data['text_cleaned'] = [nltk.word_tokenize(tweet) for tweet in data['text_cleaned']]\n",
    "text_new = []\n",
    "for each_row in data['text_cleaned']:\n",
    "    text_new.append([i for i in each_row if i.isalpha()])\n",
    "text_new_alpha = []"
   ]
  },
  {
   "cell_type": "code",
   "execution_count": 23,
   "id": "9f6309d7",
   "metadata": {
    "execution": {
     "iopub.execute_input": "2022-06-20T14:51:01.168626Z",
     "iopub.status.busy": "2022-06-20T14:51:01.167885Z",
     "iopub.status.idle": "2022-06-20T14:51:01.203033Z",
     "shell.execute_reply": "2022-06-20T14:51:01.202078Z"
    },
    "papermill": {
     "duration": 0.066684,
     "end_time": "2022-06-20T14:51:01.205752",
     "exception": false,
     "start_time": "2022-06-20T14:51:01.139068",
     "status": "completed"
    },
    "tags": []
   },
   "outputs": [],
   "source": [
    "for each_row in text_new:\n",
    "    text_new_alpha.append([i for i in each_row if i not in stop_words])"
   ]
  },
  {
   "cell_type": "code",
   "execution_count": 24,
   "id": "caa75133",
   "metadata": {
    "execution": {
     "iopub.execute_input": "2022-06-20T14:51:01.262234Z",
     "iopub.status.busy": "2022-06-20T14:51:01.261807Z",
     "iopub.status.idle": "2022-06-20T14:51:01.811192Z",
     "shell.execute_reply": "2022-06-20T14:51:01.810338Z"
    },
    "papermill": {
     "duration": 0.580387,
     "end_time": "2022-06-20T14:51:01.813549",
     "exception": false,
     "start_time": "2022-06-20T14:51:01.233162",
     "status": "completed"
    },
    "tags": []
   },
   "outputs": [],
   "source": [
    "text_new_lemma = []\n",
    "for each_row in text_new_alpha:\n",
    "    text_new_lemma.append([lemma.lemmatize(word) for word in each_row])\n",
    "#put back the new sentences\n",
    "data['text_cleaned'] = text_new_lemma\n",
    "data['text_cleaned'] = [\" \".join(desc) for desc in data['text_cleaned'].values]"
   ]
  },
  {
   "cell_type": "code",
   "execution_count": 25,
   "id": "50bfe898",
   "metadata": {
    "execution": {
     "iopub.execute_input": "2022-06-20T14:51:01.870219Z",
     "iopub.status.busy": "2022-06-20T14:51:01.869569Z",
     "iopub.status.idle": "2022-06-20T14:51:01.880359Z",
     "shell.execute_reply": "2022-06-20T14:51:01.879636Z"
    },
    "papermill": {
     "duration": 0.04133,
     "end_time": "2022-06-20T14:51:01.882167",
     "exception": false,
     "start_time": "2022-06-20T14:51:01.840837",
     "status": "completed"
    },
    "tags": []
   },
   "outputs": [
    {
     "data": {
      "text/html": [
       "<div>\n",
       "<style scoped>\n",
       "    .dataframe tbody tr th:only-of-type {\n",
       "        vertical-align: middle;\n",
       "    }\n",
       "\n",
       "    .dataframe tbody tr th {\n",
       "        vertical-align: top;\n",
       "    }\n",
       "\n",
       "    .dataframe thead th {\n",
       "        text-align: right;\n",
       "    }\n",
       "</style>\n",
       "<table border=\"1\" class=\"dataframe\">\n",
       "  <thead>\n",
       "    <tr style=\"text-align: right;\">\n",
       "      <th></th>\n",
       "      <th>gender</th>\n",
       "      <th>description</th>\n",
       "      <th>text</th>\n",
       "      <th>descrip_cleaned</th>\n",
       "      <th>text_cleaned</th>\n",
       "    </tr>\n",
       "  </thead>\n",
       "  <tbody>\n",
       "    <tr>\n",
       "      <th>0</th>\n",
       "      <td>1</td>\n",
       "      <td>i sing my own rhythm.</td>\n",
       "      <td>Robbie E Responds To Critics After Win Against...</td>\n",
       "      <td>sing rhythm</td>\n",
       "      <td>robbie e responds critic win eddie edward worl...</td>\n",
       "    </tr>\n",
       "    <tr>\n",
       "      <th>1</th>\n",
       "      <td>1</td>\n",
       "      <td>I'm the author of novels filled with family dr...</td>\n",
       "      <td>ÛÏIt felt like they were my friends and I was...</td>\n",
       "      <td>author novel filled family drama romance</td>\n",
       "      <td>felt like friend living story http retired http</td>\n",
       "    </tr>\n",
       "    <tr>\n",
       "      <th>2</th>\n",
       "      <td>1</td>\n",
       "      <td>louis whining and squealing and all</td>\n",
       "      <td>i absolutely adore when louis starts the songs...</td>\n",
       "      <td>louis whining squealing</td>\n",
       "      <td>absolutely adore louis start song hit hard fee...</td>\n",
       "    </tr>\n",
       "    <tr>\n",
       "      <th>3</th>\n",
       "      <td>1</td>\n",
       "      <td>Mobile guy.  49ers, Shazam, Google, Kleiner Pe...</td>\n",
       "      <td>Hi @JordanSpieth - Looking at the url - do you...</td>\n",
       "      <td>mobile guy shazam google kleiner perkins yahoo...</td>\n",
       "      <td>hi jordanspieth looking url use ifttt typicall...</td>\n",
       "    </tr>\n",
       "    <tr>\n",
       "      <th>4</th>\n",
       "      <td>0</td>\n",
       "      <td>Ricky Wilson The Best FRONTMAN/Kaiser Chiefs T...</td>\n",
       "      <td>Watching Neighbours on Sky+ catching up with t...</td>\n",
       "      <td>ricky wilson best chief best band xxxx thank k...</td>\n",
       "      <td>watching neighbour sky catching neighbs xxx xxx</td>\n",
       "    </tr>\n",
       "  </tbody>\n",
       "</table>\n",
       "</div>"
      ],
      "text/plain": [
       "   gender                                        description  \\\n",
       "0       1                              i sing my own rhythm.   \n",
       "1       1  I'm the author of novels filled with family dr...   \n",
       "2       1                louis whining and squealing and all   \n",
       "3       1  Mobile guy.  49ers, Shazam, Google, Kleiner Pe...   \n",
       "4       0  Ricky Wilson The Best FRONTMAN/Kaiser Chiefs T...   \n",
       "\n",
       "                                                text  \\\n",
       "0  Robbie E Responds To Critics After Win Against...   \n",
       "1  ÛÏIt felt like they were my friends and I was...   \n",
       "2  i absolutely adore when louis starts the songs...   \n",
       "3  Hi @JordanSpieth - Looking at the url - do you...   \n",
       "4  Watching Neighbours on Sky+ catching up with t...   \n",
       "\n",
       "                                     descrip_cleaned  \\\n",
       "0                                        sing rhythm   \n",
       "1           author novel filled family drama romance   \n",
       "2                            louis whining squealing   \n",
       "3  mobile guy shazam google kleiner perkins yahoo...   \n",
       "4  ricky wilson best chief best band xxxx thank k...   \n",
       "\n",
       "                                        text_cleaned  \n",
       "0  robbie e responds critic win eddie edward worl...  \n",
       "1    felt like friend living story http retired http  \n",
       "2  absolutely adore louis start song hit hard fee...  \n",
       "3  hi jordanspieth looking url use ifttt typicall...  \n",
       "4    watching neighbour sky catching neighbs xxx xxx  "
      ]
     },
     "execution_count": 25,
     "metadata": {},
     "output_type": "execute_result"
    }
   ],
   "source": [
    "data.head()"
   ]
  },
  {
   "cell_type": "markdown",
   "id": "52a63098",
   "metadata": {
    "papermill": {
     "duration": 0.02725,
     "end_time": "2022-06-20T14:51:01.936987",
     "exception": false,
     "start_time": "2022-06-20T14:51:01.909737",
     "status": "completed"
    },
    "tags": []
   },
   "source": [
    "## **<span style = \"color:#2de34f \">droping Redundant Columns description and text</span>**"
   ]
  },
  {
   "cell_type": "code",
   "execution_count": 26,
   "id": "3f7e89ec",
   "metadata": {
    "execution": {
     "iopub.execute_input": "2022-06-20T14:51:01.993898Z",
     "iopub.status.busy": "2022-06-20T14:51:01.993287Z",
     "iopub.status.idle": "2022-06-20T14:51:02.007040Z",
     "shell.execute_reply": "2022-06-20T14:51:02.006087Z"
    },
    "papermill": {
     "duration": 0.044573,
     "end_time": "2022-06-20T14:51:02.009032",
     "exception": false,
     "start_time": "2022-06-20T14:51:01.964459",
     "status": "completed"
    },
    "tags": []
   },
   "outputs": [
    {
     "data": {
      "text/html": [
       "<div>\n",
       "<style scoped>\n",
       "    .dataframe tbody tr th:only-of-type {\n",
       "        vertical-align: middle;\n",
       "    }\n",
       "\n",
       "    .dataframe tbody tr th {\n",
       "        vertical-align: top;\n",
       "    }\n",
       "\n",
       "    .dataframe thead th {\n",
       "        text-align: right;\n",
       "    }\n",
       "</style>\n",
       "<table border=\"1\" class=\"dataframe\">\n",
       "  <thead>\n",
       "    <tr style=\"text-align: right;\">\n",
       "      <th></th>\n",
       "      <th>gender</th>\n",
       "      <th>descrip_cleaned</th>\n",
       "      <th>text_cleaned</th>\n",
       "    </tr>\n",
       "  </thead>\n",
       "  <tbody>\n",
       "    <tr>\n",
       "      <th>0</th>\n",
       "      <td>1</td>\n",
       "      <td>sing rhythm</td>\n",
       "      <td>robbie e responds critic win eddie edward worl...</td>\n",
       "    </tr>\n",
       "    <tr>\n",
       "      <th>1</th>\n",
       "      <td>1</td>\n",
       "      <td>author novel filled family drama romance</td>\n",
       "      <td>felt like friend living story http retired http</td>\n",
       "    </tr>\n",
       "    <tr>\n",
       "      <th>2</th>\n",
       "      <td>1</td>\n",
       "      <td>louis whining squealing</td>\n",
       "      <td>absolutely adore louis start song hit hard fee...</td>\n",
       "    </tr>\n",
       "    <tr>\n",
       "      <th>3</th>\n",
       "      <td>1</td>\n",
       "      <td>mobile guy shazam google kleiner perkins yahoo...</td>\n",
       "      <td>hi jordanspieth looking url use ifttt typicall...</td>\n",
       "    </tr>\n",
       "    <tr>\n",
       "      <th>4</th>\n",
       "      <td>0</td>\n",
       "      <td>ricky wilson best chief best band xxxx thank k...</td>\n",
       "      <td>watching neighbour sky catching neighbs xxx xxx</td>\n",
       "    </tr>\n",
       "  </tbody>\n",
       "</table>\n",
       "</div>"
      ],
      "text/plain": [
       "   gender                                    descrip_cleaned  \\\n",
       "0       1                                        sing rhythm   \n",
       "1       1           author novel filled family drama romance   \n",
       "2       1                            louis whining squealing   \n",
       "3       1  mobile guy shazam google kleiner perkins yahoo...   \n",
       "4       0  ricky wilson best chief best band xxxx thank k...   \n",
       "\n",
       "                                        text_cleaned  \n",
       "0  robbie e responds critic win eddie edward worl...  \n",
       "1    felt like friend living story http retired http  \n",
       "2  absolutely adore louis start song hit hard fee...  \n",
       "3  hi jordanspieth looking url use ifttt typicall...  \n",
       "4    watching neighbour sky catching neighbs xxx xxx  "
      ]
     },
     "execution_count": 26,
     "metadata": {},
     "output_type": "execute_result"
    }
   ],
   "source": [
    "data.drop(['description', 'text'], axis = 1, inplace = True)\n",
    "data.head()"
   ]
  },
  {
   "cell_type": "markdown",
   "id": "78c310d2",
   "metadata": {
    "papermill": {
     "duration": 0.027522,
     "end_time": "2022-06-20T14:51:02.064548",
     "exception": false,
     "start_time": "2022-06-20T14:51:02.037026",
     "status": "completed"
    },
    "tags": []
   },
   "source": [
    "# **<span style = \"color:#008514 \">vectorization of texts</span>**"
   ]
  },
  {
   "cell_type": "markdown",
   "id": "21c8adb4",
   "metadata": {
    "papermill": {
     "duration": 0.027379,
     "end_time": "2022-06-20T14:51:02.119725",
     "exception": false,
     "start_time": "2022-06-20T14:51:02.092346",
     "status": "completed"
    },
    "tags": []
   },
   "source": [
    "### Text Vectorization is the process of converting text into numerical representation. \n",
    "### countvectorizer is one of the most straightforword vectorization method. we will use that in this project"
   ]
  },
  {
   "cell_type": "code",
   "execution_count": 27,
   "id": "56de9a84",
   "metadata": {
    "execution": {
     "iopub.execute_input": "2022-06-20T14:51:02.178300Z",
     "iopub.status.busy": "2022-06-20T14:51:02.177699Z",
     "iopub.status.idle": "2022-06-20T14:51:02.722705Z",
     "shell.execute_reply": "2022-06-20T14:51:02.721832Z"
    },
    "papermill": {
     "duration": 0.576412,
     "end_time": "2022-06-20T14:51:02.725001",
     "exception": false,
     "start_time": "2022-06-20T14:51:02.148589",
     "status": "completed"
    },
    "tags": []
   },
   "outputs": [],
   "source": [
    "cv = CountVectorizer(max_features = 1000)\n",
    "x = cv.fit_transform(data['descrip_cleaned']).toarray()\n",
    "x1 = cv.fit_transform(data['text_cleaned']).toarray()"
   ]
  },
  {
   "cell_type": "markdown",
   "id": "c35cacf1",
   "metadata": {
    "papermill": {
     "duration": 0.028592,
     "end_time": "2022-06-20T14:51:02.782843",
     "exception": false,
     "start_time": "2022-06-20T14:51:02.754251",
     "status": "completed"
    },
    "tags": []
   },
   "source": [
    "### let's save these two set of vectors in two different pandas dataframe"
   ]
  },
  {
   "cell_type": "code",
   "execution_count": 28,
   "id": "28452a5e",
   "metadata": {
    "execution": {
     "iopub.execute_input": "2022-06-20T14:51:02.841474Z",
     "iopub.status.busy": "2022-06-20T14:51:02.840817Z",
     "iopub.status.idle": "2022-06-20T14:51:02.845220Z",
     "shell.execute_reply": "2022-06-20T14:51:02.844568Z"
    },
    "papermill": {
     "duration": 0.035659,
     "end_time": "2022-06-20T14:51:02.847200",
     "exception": false,
     "start_time": "2022-06-20T14:51:02.811541",
     "status": "completed"
    },
    "tags": []
   },
   "outputs": [],
   "source": [
    "A = pd.DataFrame(x)\n",
    "B = pd.DataFrame(x1)\n"
   ]
  },
  {
   "cell_type": "markdown",
   "id": "1756a3ad",
   "metadata": {
    "papermill": {
     "duration": 0.027711,
     "end_time": "2022-06-20T14:51:02.903410",
     "exception": false,
     "start_time": "2022-06-20T14:51:02.875699",
     "status": "completed"
    },
    "tags": []
   },
   "source": [
    "### and then concatenate these two dataframes"
   ]
  },
  {
   "cell_type": "code",
   "execution_count": 29,
   "id": "a704add1",
   "metadata": {
    "execution": {
     "iopub.execute_input": "2022-06-20T14:51:02.960757Z",
     "iopub.status.busy": "2022-06-20T14:51:02.960361Z",
     "iopub.status.idle": "2022-06-20T14:51:03.355322Z",
     "shell.execute_reply": "2022-06-20T14:51:03.354292Z"
    },
    "papermill": {
     "duration": 0.426377,
     "end_time": "2022-06-20T14:51:03.357540",
     "exception": false,
     "start_time": "2022-06-20T14:51:02.931163",
     "status": "completed"
    },
    "tags": []
   },
   "outputs": [
    {
     "data": {
      "text/plain": [
       "(11194, 2000)"
      ]
     },
     "execution_count": 29,
     "metadata": {},
     "output_type": "execute_result"
    }
   ],
   "source": [
    "X = pd.concat([B, A], join = 'outer', axis = 1)\n",
    "X.shape"
   ]
  },
  {
   "cell_type": "markdown",
   "id": "a8fa7dd1",
   "metadata": {
    "papermill": {
     "duration": 0.027551,
     "end_time": "2022-06-20T14:51:03.413310",
     "exception": false,
     "start_time": "2022-06-20T14:51:03.385759",
     "status": "completed"
    },
    "tags": []
   },
   "source": [
    "### the shape of this new dataframe matches shape of our gender column"
   ]
  },
  {
   "cell_type": "code",
   "execution_count": 30,
   "id": "b66decb4",
   "metadata": {
    "execution": {
     "iopub.execute_input": "2022-06-20T14:51:03.470845Z",
     "iopub.status.busy": "2022-06-20T14:51:03.470443Z",
     "iopub.status.idle": "2022-06-20T14:51:03.476049Z",
     "shell.execute_reply": "2022-06-20T14:51:03.475409Z"
    },
    "papermill": {
     "duration": 0.036655,
     "end_time": "2022-06-20T14:51:03.477837",
     "exception": false,
     "start_time": "2022-06-20T14:51:03.441182",
     "status": "completed"
    },
    "tags": []
   },
   "outputs": [
    {
     "data": {
      "text/plain": [
       "(11194,)"
      ]
     },
     "execution_count": 30,
     "metadata": {},
     "output_type": "execute_result"
    }
   ],
   "source": [
    "data['gender'].shape"
   ]
  },
  {
   "cell_type": "markdown",
   "id": "a4a3f0f5",
   "metadata": {
    "papermill": {
     "duration": 0.027757,
     "end_time": "2022-06-20T14:51:03.533662",
     "exception": false,
     "start_time": "2022-06-20T14:51:03.505905",
     "status": "completed"
    },
    "tags": []
   },
   "source": [
    "### Now build our independent variables and Target variable"
   ]
  },
  {
   "cell_type": "code",
   "execution_count": 31,
   "id": "9696a03e",
   "metadata": {
    "execution": {
     "iopub.execute_input": "2022-06-20T14:51:03.591304Z",
     "iopub.status.busy": "2022-06-20T14:51:03.590878Z",
     "iopub.status.idle": "2022-06-20T14:51:04.168395Z",
     "shell.execute_reply": "2022-06-20T14:51:04.167314Z"
    },
    "papermill": {
     "duration": 0.609152,
     "end_time": "2022-06-20T14:51:04.170915",
     "exception": false,
     "start_time": "2022-06-20T14:51:03.561763",
     "status": "completed"
    },
    "tags": []
   },
   "outputs": [],
   "source": [
    "x = np.array(X)\n",
    "y = np.array(data['gender'])"
   ]
  },
  {
   "cell_type": "markdown",
   "id": "e5ddf51c",
   "metadata": {
    "papermill": {
     "duration": 0.028328,
     "end_time": "2022-06-20T14:51:04.228215",
     "exception": false,
     "start_time": "2022-06-20T14:51:04.199887",
     "status": "completed"
    },
    "tags": []
   },
   "source": [
    "## **<span style = \"color:#2de34f \">Split the data into train test set</span>**"
   ]
  },
  {
   "cell_type": "code",
   "execution_count": 32,
   "id": "34c121d2",
   "metadata": {
    "execution": {
     "iopub.execute_input": "2022-06-20T14:51:04.286764Z",
     "iopub.status.busy": "2022-06-20T14:51:04.286067Z",
     "iopub.status.idle": "2022-06-20T14:51:04.623965Z",
     "shell.execute_reply": "2022-06-20T14:51:04.622926Z"
    },
    "papermill": {
     "duration": 0.370272,
     "end_time": "2022-06-20T14:51:04.626675",
     "exception": false,
     "start_time": "2022-06-20T14:51:04.256403",
     "status": "completed"
    },
    "tags": []
   },
   "outputs": [],
   "source": [
    "X_train, X_test, y_train, y_test = train_test_split(x,y, test_size = 0.2, random_state = 0)"
   ]
  },
  {
   "cell_type": "markdown",
   "id": "11685de4",
   "metadata": {
    "papermill": {
     "duration": 0.028548,
     "end_time": "2022-06-20T14:51:04.683436",
     "exception": false,
     "start_time": "2022-06-20T14:51:04.654888",
     "status": "completed"
    },
    "tags": []
   },
   "source": [
    "# **<span style = \"color:#008514 \">Classification</span>**"
   ]
  },
  {
   "cell_type": "markdown",
   "id": "2ac1e2db",
   "metadata": {
    "papermill": {
     "duration": 0.028944,
     "end_time": "2022-06-20T14:51:04.740416",
     "exception": false,
     "start_time": "2022-06-20T14:51:04.711472",
     "status": "completed"
    },
    "tags": []
   },
   "source": [
    "### we will use thrre classifier for this task. Naive Bayes, Lightgbm and XGBoost"
   ]
  },
  {
   "cell_type": "markdown",
   "id": "f2e50c45",
   "metadata": {
    "papermill": {
     "duration": 0.035602,
     "end_time": "2022-06-20T14:51:04.807537",
     "exception": false,
     "start_time": "2022-06-20T14:51:04.771935",
     "status": "completed"
    },
    "tags": []
   },
   "source": [
    "## **<span style = \"color:#2de34f \">Naive Bayes</span>**"
   ]
  },
  {
   "cell_type": "code",
   "execution_count": 33,
   "id": "f032eaf5",
   "metadata": {
    "execution": {
     "iopub.execute_input": "2022-06-20T14:51:04.870075Z",
     "iopub.status.busy": "2022-06-20T14:51:04.869065Z",
     "iopub.status.idle": "2022-06-20T14:51:05.329669Z",
     "shell.execute_reply": "2022-06-20T14:51:05.328794Z"
    },
    "papermill": {
     "duration": 0.493243,
     "end_time": "2022-06-20T14:51:05.332422",
     "exception": false,
     "start_time": "2022-06-20T14:51:04.839179",
     "status": "completed"
    },
    "tags": []
   },
   "outputs": [],
   "source": [
    "gnb_model = GaussianNB()\n",
    "gnb_model.fit(X_train , y_train)\n",
    "y_pred = gnb_model.predict(X_test)"
   ]
  },
  {
   "cell_type": "markdown",
   "id": "52d71891",
   "metadata": {
    "papermill": {
     "duration": 0.027708,
     "end_time": "2022-06-20T14:51:05.388680",
     "exception": false,
     "start_time": "2022-06-20T14:51:05.360972",
     "status": "completed"
    },
    "tags": []
   },
   "source": [
    "## **<span style = \"color:#67bf78 \">Evaluation</span>**"
   ]
  },
  {
   "cell_type": "code",
   "execution_count": 34,
   "id": "102b7aba",
   "metadata": {
    "execution": {
     "iopub.execute_input": "2022-06-20T14:51:05.446228Z",
     "iopub.status.busy": "2022-06-20T14:51:05.445710Z",
     "iopub.status.idle": "2022-06-20T14:51:05.453318Z",
     "shell.execute_reply": "2022-06-20T14:51:05.451361Z"
    },
    "papermill": {
     "duration": 0.038742,
     "end_time": "2022-06-20T14:51:05.455506",
     "exception": false,
     "start_time": "2022-06-20T14:51:05.416764",
     "status": "completed"
    },
    "tags": []
   },
   "outputs": [
    {
     "name": "stdout",
     "output_type": "stream",
     "text": [
      "accuracy: 63.11%\n"
     ]
    }
   ],
   "source": [
    "accuracy = accuracy_score(y_test, y_pred)\n",
    "print(\"accuracy: %.2f%%\" % (accuracy*100.0))"
   ]
  },
  {
   "cell_type": "code",
   "execution_count": 35,
   "id": "41182236",
   "metadata": {
    "execution": {
     "iopub.execute_input": "2022-06-20T14:51:05.514359Z",
     "iopub.status.busy": "2022-06-20T14:51:05.513168Z",
     "iopub.status.idle": "2022-06-20T14:51:05.523247Z",
     "shell.execute_reply": "2022-06-20T14:51:05.522315Z"
    },
    "papermill": {
     "duration": 0.041283,
     "end_time": "2022-06-20T14:51:05.525200",
     "exception": false,
     "start_time": "2022-06-20T14:51:05.483917",
     "status": "completed"
    },
    "tags": []
   },
   "outputs": [
    {
     "data": {
      "text/plain": [
       "array([[789, 343],\n",
       "       [483, 624]])"
      ]
     },
     "execution_count": 35,
     "metadata": {},
     "output_type": "execute_result"
    }
   ],
   "source": [
    "confusion_matrix(y_test, y_pred)"
   ]
  },
  {
   "cell_type": "code",
   "execution_count": 36,
   "id": "d74b958d",
   "metadata": {
    "execution": {
     "iopub.execute_input": "2022-06-20T14:51:05.584139Z",
     "iopub.status.busy": "2022-06-20T14:51:05.583389Z",
     "iopub.status.idle": "2022-06-20T14:51:05.597005Z",
     "shell.execute_reply": "2022-06-20T14:51:05.596311Z"
    },
    "papermill": {
     "duration": 0.045518,
     "end_time": "2022-06-20T14:51:05.599466",
     "exception": false,
     "start_time": "2022-06-20T14:51:05.553948",
     "status": "completed"
    },
    "tags": []
   },
   "outputs": [
    {
     "name": "stdout",
     "output_type": "stream",
     "text": [
      "              precision    recall  f1-score   support\n",
      "\n",
      "           0       0.62      0.70      0.66      1132\n",
      "           1       0.65      0.56      0.60      1107\n",
      "\n",
      "    accuracy                           0.63      2239\n",
      "   macro avg       0.63      0.63      0.63      2239\n",
      "weighted avg       0.63      0.63      0.63      2239\n",
      "\n"
     ]
    }
   ],
   "source": [
    "print(classification_report(y_test, y_pred))"
   ]
  },
  {
   "cell_type": "markdown",
   "id": "4c6ccbdd",
   "metadata": {
    "papermill": {
     "duration": 0.028043,
     "end_time": "2022-06-20T14:51:05.656515",
     "exception": false,
     "start_time": "2022-06-20T14:51:05.628472",
     "status": "completed"
    },
    "tags": []
   },
   "source": [
    "## **<span style = \"color:#67bf78 \">Hyperparameter optimization</span>**"
   ]
  },
  {
   "cell_type": "markdown",
   "id": "b868c4fa",
   "metadata": {
    "papermill": {
     "duration": 0.027944,
     "end_time": "2022-06-20T14:51:05.712895",
     "exception": false,
     "start_time": "2022-06-20T14:51:05.684951",
     "status": "completed"
    },
    "tags": []
   },
   "source": [
    "### we are using grid search for hyperparameter optimizing the hyperparameters of the models"
   ]
  },
  {
   "cell_type": "code",
   "execution_count": 37,
   "id": "7079a562",
   "metadata": {
    "execution": {
     "iopub.execute_input": "2022-06-20T14:51:05.772733Z",
     "iopub.status.busy": "2022-06-20T14:51:05.772051Z",
     "iopub.status.idle": "2022-06-20T14:51:05.776547Z",
     "shell.execute_reply": "2022-06-20T14:51:05.775837Z"
    },
    "papermill": {
     "duration": 0.036757,
     "end_time": "2022-06-20T14:51:05.778512",
     "exception": false,
     "start_time": "2022-06-20T14:51:05.741755",
     "status": "completed"
    },
    "tags": []
   },
   "outputs": [],
   "source": [
    "param_grid_nb = {'var_smoothing': np.logspace(0, -9, num = 100)}"
   ]
  },
  {
   "cell_type": "code",
   "execution_count": 38,
   "id": "7b9ab1f5",
   "metadata": {
    "execution": {
     "iopub.execute_input": "2022-06-20T14:51:05.838376Z",
     "iopub.status.busy": "2022-06-20T14:51:05.837693Z",
     "iopub.status.idle": "2022-06-20T14:51:05.841910Z",
     "shell.execute_reply": "2022-06-20T14:51:05.841312Z"
    },
    "papermill": {
     "duration": 0.036094,
     "end_time": "2022-06-20T14:51:05.843675",
     "exception": false,
     "start_time": "2022-06-20T14:51:05.807581",
     "status": "completed"
    },
    "tags": []
   },
   "outputs": [],
   "source": [
    "nb_model_grid = GridSearchCV(estimator = gnb_model, param_grid = param_grid_nb, verbose = 1, cv = 3, n_jobs = -1)"
   ]
  },
  {
   "cell_type": "code",
   "execution_count": 39,
   "id": "317a95cf",
   "metadata": {
    "execution": {
     "iopub.execute_input": "2022-06-20T14:51:05.902784Z",
     "iopub.status.busy": "2022-06-20T14:51:05.902079Z",
     "iopub.status.idle": "2022-06-20T14:51:53.264658Z",
     "shell.execute_reply": "2022-06-20T14:51:53.263412Z"
    },
    "papermill": {
     "duration": 47.422318,
     "end_time": "2022-06-20T14:51:53.294338",
     "exception": false,
     "start_time": "2022-06-20T14:51:05.872020",
     "status": "completed"
    },
    "tags": []
   },
   "outputs": [
    {
     "name": "stdout",
     "output_type": "stream",
     "text": [
      "Fitting 3 folds for each of 100 candidates, totalling 300 fits\n"
     ]
    },
    {
     "data": {
      "text/plain": [
       "GridSearchCV(cv=3, estimator=GaussianNB(), n_jobs=-1,\n",
       "             param_grid={'var_smoothing': array([1.00000000e+00, 8.11130831e-01, 6.57933225e-01, 5.33669923e-01,\n",
       "       4.32876128e-01, 3.51119173e-01, 2.84803587e-01, 2.31012970e-01,\n",
       "       1.87381742e-01, 1.51991108e-01, 1.23284674e-01, 1.00000000e-01,\n",
       "       8.11130831e-02, 6.57933225e-02, 5.33669923e-02, 4.32876128e-02,\n",
       "       3.51119173e-02, 2.8480358...\n",
       "       1.23284674e-07, 1.00000000e-07, 8.11130831e-08, 6.57933225e-08,\n",
       "       5.33669923e-08, 4.32876128e-08, 3.51119173e-08, 2.84803587e-08,\n",
       "       2.31012970e-08, 1.87381742e-08, 1.51991108e-08, 1.23284674e-08,\n",
       "       1.00000000e-08, 8.11130831e-09, 6.57933225e-09, 5.33669923e-09,\n",
       "       4.32876128e-09, 3.51119173e-09, 2.84803587e-09, 2.31012970e-09,\n",
       "       1.87381742e-09, 1.51991108e-09, 1.23284674e-09, 1.00000000e-09])},\n",
       "             verbose=1)"
      ]
     },
     "execution_count": 39,
     "metadata": {},
     "output_type": "execute_result"
    }
   ],
   "source": [
    "nb_model_grid.fit(X_train, y_train)"
   ]
  },
  {
   "cell_type": "code",
   "execution_count": 40,
   "id": "9ce81c72",
   "metadata": {
    "execution": {
     "iopub.execute_input": "2022-06-20T14:51:53.354109Z",
     "iopub.status.busy": "2022-06-20T14:51:53.353694Z",
     "iopub.status.idle": "2022-06-20T14:51:53.359596Z",
     "shell.execute_reply": "2022-06-20T14:51:53.358690Z"
    },
    "papermill": {
     "duration": 0.038579,
     "end_time": "2022-06-20T14:51:53.361531",
     "exception": false,
     "start_time": "2022-06-20T14:51:53.322952",
     "status": "completed"
    },
    "tags": []
   },
   "outputs": [
    {
     "data": {
      "text/plain": [
       "{'var_smoothing': 0.006579332246575682}"
      ]
     },
     "execution_count": 40,
     "metadata": {},
     "output_type": "execute_result"
    }
   ],
   "source": [
    "nb_model_grid.best_params_"
   ]
  },
  {
   "cell_type": "code",
   "execution_count": 41,
   "id": "979392df",
   "metadata": {
    "execution": {
     "iopub.execute_input": "2022-06-20T14:51:53.421137Z",
     "iopub.status.busy": "2022-06-20T14:51:53.420490Z",
     "iopub.status.idle": "2022-06-20T14:51:53.498779Z",
     "shell.execute_reply": "2022-06-20T14:51:53.497656Z"
    },
    "papermill": {
     "duration": 0.111141,
     "end_time": "2022-06-20T14:51:53.501372",
     "exception": false,
     "start_time": "2022-06-20T14:51:53.390231",
     "status": "completed"
    },
    "tags": []
   },
   "outputs": [],
   "source": [
    "y_pred_hyper = nb_model_grid.predict(X_test)"
   ]
  },
  {
   "cell_type": "code",
   "execution_count": 42,
   "id": "2ae1228d",
   "metadata": {
    "execution": {
     "iopub.execute_input": "2022-06-20T14:51:53.561936Z",
     "iopub.status.busy": "2022-06-20T14:51:53.560965Z",
     "iopub.status.idle": "2022-06-20T14:51:53.568681Z",
     "shell.execute_reply": "2022-06-20T14:51:53.567344Z"
    },
    "papermill": {
     "duration": 0.040345,
     "end_time": "2022-06-20T14:51:53.570816",
     "exception": false,
     "start_time": "2022-06-20T14:51:53.530471",
     "status": "completed"
    },
    "tags": []
   },
   "outputs": [
    {
     "name": "stdout",
     "output_type": "stream",
     "text": [
      "[[885 247]\n",
      " [555 552]]\n"
     ]
    }
   ],
   "source": [
    "print(confusion_matrix(y_test, y_pred_hyper))"
   ]
  },
  {
   "cell_type": "code",
   "execution_count": 43,
   "id": "8d162111",
   "metadata": {
    "execution": {
     "iopub.execute_input": "2022-06-20T14:51:53.631517Z",
     "iopub.status.busy": "2022-06-20T14:51:53.630775Z",
     "iopub.status.idle": "2022-06-20T14:51:53.636605Z",
     "shell.execute_reply": "2022-06-20T14:51:53.635602Z"
    },
    "papermill": {
     "duration": 0.039074,
     "end_time": "2022-06-20T14:51:53.639147",
     "exception": false,
     "start_time": "2022-06-20T14:51:53.600073",
     "status": "completed"
    },
    "tags": []
   },
   "outputs": [
    {
     "name": "stdout",
     "output_type": "stream",
     "text": [
      "accuracy after tuning: 64.18%\n"
     ]
    }
   ],
   "source": [
    "accuracy = accuracy_score(y_test, y_pred_hyper)\n",
    "print(\"accuracy after tuning: %.2f%%\" % (accuracy*100.0))"
   ]
  },
  {
   "cell_type": "code",
   "execution_count": 44,
   "id": "15643148",
   "metadata": {
    "execution": {
     "iopub.execute_input": "2022-06-20T14:51:53.699736Z",
     "iopub.status.busy": "2022-06-20T14:51:53.699004Z",
     "iopub.status.idle": "2022-06-20T14:51:53.712917Z",
     "shell.execute_reply": "2022-06-20T14:51:53.711859Z"
    },
    "papermill": {
     "duration": 0.047056,
     "end_time": "2022-06-20T14:51:53.715481",
     "exception": false,
     "start_time": "2022-06-20T14:51:53.668425",
     "status": "completed"
    },
    "tags": []
   },
   "outputs": [
    {
     "name": "stdout",
     "output_type": "stream",
     "text": [
      "              precision    recall  f1-score   support\n",
      "\n",
      "           0       0.61      0.78      0.69      1132\n",
      "           1       0.69      0.50      0.58      1107\n",
      "\n",
      "    accuracy                           0.64      2239\n",
      "   macro avg       0.65      0.64      0.63      2239\n",
      "weighted avg       0.65      0.64      0.63      2239\n",
      "\n"
     ]
    }
   ],
   "source": [
    "print(classification_report(y_test, y_pred_hyper))"
   ]
  },
  {
   "cell_type": "markdown",
   "id": "0bba9397",
   "metadata": {
    "papermill": {
     "duration": 0.029102,
     "end_time": "2022-06-20T14:51:53.773882",
     "exception": false,
     "start_time": "2022-06-20T14:51:53.744780",
     "status": "completed"
    },
    "tags": []
   },
   "source": [
    "## **<span style = \"color:#2de34f \">Lightgbm Classifier</span>**"
   ]
  },
  {
   "cell_type": "code",
   "execution_count": 45,
   "id": "3f7db378",
   "metadata": {
    "execution": {
     "iopub.execute_input": "2022-06-20T14:51:53.835490Z",
     "iopub.status.busy": "2022-06-20T14:51:53.835067Z",
     "iopub.status.idle": "2022-06-20T14:51:54.241246Z",
     "shell.execute_reply": "2022-06-20T14:51:54.240490Z"
    },
    "papermill": {
     "duration": 0.440095,
     "end_time": "2022-06-20T14:51:54.243948",
     "exception": false,
     "start_time": "2022-06-20T14:51:53.803853",
     "status": "completed"
    },
    "tags": []
   },
   "outputs": [
    {
     "data": {
      "text/plain": [
       "LGBMClassifier(max_depth=3)"
      ]
     },
     "execution_count": 45,
     "metadata": {},
     "output_type": "execute_result"
    }
   ],
   "source": [
    "lgb_model = LGBMClassifier(max_depth=3)\n",
    "lgb_model.fit(X_train, y_train)"
   ]
  },
  {
   "cell_type": "markdown",
   "id": "5ae83c66",
   "metadata": {
    "papermill": {
     "duration": 0.030613,
     "end_time": "2022-06-20T14:51:54.305073",
     "exception": false,
     "start_time": "2022-06-20T14:51:54.274460",
     "status": "completed"
    },
    "tags": []
   },
   "source": [
    "## **<span style = \"color:#67bf78 \">Evaluation</span>**"
   ]
  },
  {
   "cell_type": "code",
   "execution_count": 46,
   "id": "5c0159e5",
   "metadata": {
    "execution": {
     "iopub.execute_input": "2022-06-20T14:51:54.368181Z",
     "iopub.status.busy": "2022-06-20T14:51:54.367108Z",
     "iopub.status.idle": "2022-06-20T14:51:54.394180Z",
     "shell.execute_reply": "2022-06-20T14:51:54.393235Z"
    },
    "papermill": {
     "duration": 0.060319,
     "end_time": "2022-06-20T14:51:54.396650",
     "exception": false,
     "start_time": "2022-06-20T14:51:54.336331",
     "status": "completed"
    },
    "tags": []
   },
   "outputs": [],
   "source": [
    "y_pred1 = lgb_model.predict(X_test)"
   ]
  },
  {
   "cell_type": "code",
   "execution_count": 47,
   "id": "b4cf8dc4",
   "metadata": {
    "execution": {
     "iopub.execute_input": "2022-06-20T14:51:54.459030Z",
     "iopub.status.busy": "2022-06-20T14:51:54.458588Z",
     "iopub.status.idle": "2022-06-20T14:51:54.465329Z",
     "shell.execute_reply": "2022-06-20T14:51:54.464031Z"
    },
    "papermill": {
     "duration": 0.039597,
     "end_time": "2022-06-20T14:51:54.467278",
     "exception": false,
     "start_time": "2022-06-20T14:51:54.427681",
     "status": "completed"
    },
    "tags": []
   },
   "outputs": [
    {
     "name": "stdout",
     "output_type": "stream",
     "text": [
      "accuracy: 60.92%\n"
     ]
    }
   ],
   "source": [
    "accuracy = accuracy_score(y_test, y_pred1)\n",
    "print(\"accuracy: %.2f%%\" % (accuracy*100.0))"
   ]
  },
  {
   "cell_type": "code",
   "execution_count": 48,
   "id": "725081dc",
   "metadata": {
    "execution": {
     "iopub.execute_input": "2022-06-20T14:51:54.528489Z",
     "iopub.status.busy": "2022-06-20T14:51:54.527578Z",
     "iopub.status.idle": "2022-06-20T14:51:54.536004Z",
     "shell.execute_reply": "2022-06-20T14:51:54.535068Z"
    },
    "papermill": {
     "duration": 0.041211,
     "end_time": "2022-06-20T14:51:54.538200",
     "exception": false,
     "start_time": "2022-06-20T14:51:54.496989",
     "status": "completed"
    },
    "tags": []
   },
   "outputs": [
    {
     "data": {
      "text/plain": [
       "array([[995, 137],\n",
       "       [738, 369]])"
      ]
     },
     "execution_count": 48,
     "metadata": {},
     "output_type": "execute_result"
    }
   ],
   "source": [
    "confusion_matrix(y_test, y_pred1)"
   ]
  },
  {
   "cell_type": "code",
   "execution_count": 49,
   "id": "db6104db",
   "metadata": {
    "execution": {
     "iopub.execute_input": "2022-06-20T14:51:54.599877Z",
     "iopub.status.busy": "2022-06-20T14:51:54.598856Z",
     "iopub.status.idle": "2022-06-20T14:51:54.611905Z",
     "shell.execute_reply": "2022-06-20T14:51:54.611162Z"
    },
    "papermill": {
     "duration": 0.046491,
     "end_time": "2022-06-20T14:51:54.614333",
     "exception": false,
     "start_time": "2022-06-20T14:51:54.567842",
     "status": "completed"
    },
    "tags": []
   },
   "outputs": [
    {
     "name": "stdout",
     "output_type": "stream",
     "text": [
      "              precision    recall  f1-score   support\n",
      "\n",
      "           0       0.62      0.70      0.66      1132\n",
      "           1       0.65      0.56      0.60      1107\n",
      "\n",
      "    accuracy                           0.63      2239\n",
      "   macro avg       0.63      0.63      0.63      2239\n",
      "weighted avg       0.63      0.63      0.63      2239\n",
      "\n"
     ]
    }
   ],
   "source": [
    "print(classification_report(y_test, y_pred))"
   ]
  },
  {
   "cell_type": "markdown",
   "id": "2d5f8583",
   "metadata": {
    "papermill": {
     "duration": 0.029561,
     "end_time": "2022-06-20T14:51:54.673367",
     "exception": false,
     "start_time": "2022-06-20T14:51:54.643806",
     "status": "completed"
    },
    "tags": []
   },
   "source": [
    "## **<span style = \"color:#67bf78 \">Hyperparameter optimization</span>**"
   ]
  },
  {
   "cell_type": "code",
   "execution_count": 50,
   "id": "96469919",
   "metadata": {
    "execution": {
     "iopub.execute_input": "2022-06-20T14:51:54.734762Z",
     "iopub.status.busy": "2022-06-20T14:51:54.734142Z",
     "iopub.status.idle": "2022-06-20T14:51:54.739352Z",
     "shell.execute_reply": "2022-06-20T14:51:54.738349Z"
    },
    "papermill": {
     "duration": 0.038534,
     "end_time": "2022-06-20T14:51:54.741461",
     "exception": false,
     "start_time": "2022-06-20T14:51:54.702927",
     "status": "completed"
    },
    "tags": []
   },
   "outputs": [],
   "source": [
    "param_grid_lgb = {\n",
    "              \"max_depth\": [2, 3, 5, 10],\n",
    "              \"min_child_weight\": [0.001, 0.002],\n",
    "              \"learning_rate\": [0.05, 0.1]\n",
    "              }"
   ]
  },
  {
   "cell_type": "code",
   "execution_count": 51,
   "id": "3283c464",
   "metadata": {
    "execution": {
     "iopub.execute_input": "2022-06-20T14:51:54.802722Z",
     "iopub.status.busy": "2022-06-20T14:51:54.802280Z",
     "iopub.status.idle": "2022-06-20T14:51:54.807533Z",
     "shell.execute_reply": "2022-06-20T14:51:54.806550Z"
    },
    "papermill": {
     "duration": 0.038481,
     "end_time": "2022-06-20T14:51:54.809476",
     "exception": false,
     "start_time": "2022-06-20T14:51:54.770995",
     "status": "completed"
    },
    "tags": []
   },
   "outputs": [],
   "source": [
    "lgb_grid = GridSearchCV(estimator = lgb_model, param_grid = param_grid_lgb, verbose = 1, cv = 3, n_jobs = -1)"
   ]
  },
  {
   "cell_type": "code",
   "execution_count": 52,
   "id": "d240c267",
   "metadata": {
    "execution": {
     "iopub.execute_input": "2022-06-20T14:51:54.870908Z",
     "iopub.status.busy": "2022-06-20T14:51:54.870488Z",
     "iopub.status.idle": "2022-06-20T14:52:06.368163Z",
     "shell.execute_reply": "2022-06-20T14:52:06.367206Z"
    },
    "papermill": {
     "duration": 11.531104,
     "end_time": "2022-06-20T14:52:06.370456",
     "exception": false,
     "start_time": "2022-06-20T14:51:54.839352",
     "status": "completed"
    },
    "tags": []
   },
   "outputs": [
    {
     "name": "stdout",
     "output_type": "stream",
     "text": [
      "Fitting 3 folds for each of 16 candidates, totalling 48 fits\n"
     ]
    },
    {
     "data": {
      "text/plain": [
       "GridSearchCV(cv=3, estimator=LGBMClassifier(max_depth=3), n_jobs=-1,\n",
       "             param_grid={'learning_rate': [0.05, 0.1],\n",
       "                         'max_depth': [2, 3, 5, 10],\n",
       "                         'min_child_weight': [0.001, 0.002]},\n",
       "             verbose=1)"
      ]
     },
     "execution_count": 52,
     "metadata": {},
     "output_type": "execute_result"
    }
   ],
   "source": [
    "lgb_grid.fit(X_train, y_train)"
   ]
  },
  {
   "cell_type": "code",
   "execution_count": 53,
   "id": "e8e0e575",
   "metadata": {
    "execution": {
     "iopub.execute_input": "2022-06-20T14:52:06.433619Z",
     "iopub.status.busy": "2022-06-20T14:52:06.433181Z",
     "iopub.status.idle": "2022-06-20T14:52:06.439965Z",
     "shell.execute_reply": "2022-06-20T14:52:06.438967Z"
    },
    "papermill": {
     "duration": 0.040132,
     "end_time": "2022-06-20T14:52:06.442038",
     "exception": false,
     "start_time": "2022-06-20T14:52:06.401906",
     "status": "completed"
    },
    "tags": []
   },
   "outputs": [
    {
     "data": {
      "text/plain": [
       "{'learning_rate': 0.1, 'max_depth': 10, 'min_child_weight': 0.001}"
      ]
     },
     "execution_count": 53,
     "metadata": {},
     "output_type": "execute_result"
    }
   ],
   "source": [
    "lgb_grid.best_params_"
   ]
  },
  {
   "cell_type": "code",
   "execution_count": 54,
   "id": "207efddf",
   "metadata": {
    "execution": {
     "iopub.execute_input": "2022-06-20T14:52:06.503997Z",
     "iopub.status.busy": "2022-06-20T14:52:06.503578Z",
     "iopub.status.idle": "2022-06-20T14:52:06.540394Z",
     "shell.execute_reply": "2022-06-20T14:52:06.532973Z"
    },
    "papermill": {
     "duration": 0.071151,
     "end_time": "2022-06-20T14:52:06.543170",
     "exception": false,
     "start_time": "2022-06-20T14:52:06.472019",
     "status": "completed"
    },
    "tags": []
   },
   "outputs": [],
   "source": [
    "y_pred1_hyper = lgb_grid.predict(X_test)"
   ]
  },
  {
   "cell_type": "code",
   "execution_count": 55,
   "id": "69a70e2d",
   "metadata": {
    "execution": {
     "iopub.execute_input": "2022-06-20T14:52:06.605054Z",
     "iopub.status.busy": "2022-06-20T14:52:06.604651Z",
     "iopub.status.idle": "2022-06-20T14:52:06.612246Z",
     "shell.execute_reply": "2022-06-20T14:52:06.610939Z"
    },
    "papermill": {
     "duration": 0.041093,
     "end_time": "2022-06-20T14:52:06.614475",
     "exception": false,
     "start_time": "2022-06-20T14:52:06.573382",
     "status": "completed"
    },
    "tags": []
   },
   "outputs": [
    {
     "name": "stdout",
     "output_type": "stream",
     "text": [
      "accuracy after tuning: 62.44%\n"
     ]
    }
   ],
   "source": [
    "accuracy = accuracy_score(y_test, y_pred1_hyper)\n",
    "print(\"accuracy after tuning: %.2f%%\" % (accuracy*100.0))"
   ]
  },
  {
   "cell_type": "code",
   "execution_count": 56,
   "id": "53552692",
   "metadata": {
    "execution": {
     "iopub.execute_input": "2022-06-20T14:52:06.675800Z",
     "iopub.status.busy": "2022-06-20T14:52:06.675372Z",
     "iopub.status.idle": "2022-06-20T14:52:06.682233Z",
     "shell.execute_reply": "2022-06-20T14:52:06.681503Z"
    },
    "papermill": {
     "duration": 0.041338,
     "end_time": "2022-06-20T14:52:06.685642",
     "exception": false,
     "start_time": "2022-06-20T14:52:06.644304",
     "status": "completed"
    },
    "tags": []
   },
   "outputs": [
    {
     "name": "stdout",
     "output_type": "stream",
     "text": [
      "[[901 231]\n",
      " [610 497]]\n"
     ]
    }
   ],
   "source": [
    "print(confusion_matrix(y_test, y_pred1_hyper))"
   ]
  },
  {
   "cell_type": "code",
   "execution_count": 57,
   "id": "549d4a09",
   "metadata": {
    "execution": {
     "iopub.execute_input": "2022-06-20T14:52:06.748918Z",
     "iopub.status.busy": "2022-06-20T14:52:06.748395Z",
     "iopub.status.idle": "2022-06-20T14:52:06.760247Z",
     "shell.execute_reply": "2022-06-20T14:52:06.759548Z"
    },
    "papermill": {
     "duration": 0.046167,
     "end_time": "2022-06-20T14:52:06.763209",
     "exception": false,
     "start_time": "2022-06-20T14:52:06.717042",
     "status": "completed"
    },
    "tags": []
   },
   "outputs": [
    {
     "name": "stdout",
     "output_type": "stream",
     "text": [
      "              precision    recall  f1-score   support\n",
      "\n",
      "           0       0.60      0.80      0.68      1132\n",
      "           1       0.68      0.45      0.54      1107\n",
      "\n",
      "    accuracy                           0.62      2239\n",
      "   macro avg       0.64      0.62      0.61      2239\n",
      "weighted avg       0.64      0.62      0.61      2239\n",
      "\n"
     ]
    }
   ],
   "source": [
    "print(classification_report(y_test, y_pred1_hyper))"
   ]
  },
  {
   "cell_type": "markdown",
   "id": "9e664f95",
   "metadata": {
    "papermill": {
     "duration": 0.030097,
     "end_time": "2022-06-20T14:52:06.824839",
     "exception": false,
     "start_time": "2022-06-20T14:52:06.794742",
     "status": "completed"
    },
    "tags": []
   },
   "source": [
    "## **<span style = \"color:#2de34f \">XGBoost Classifier</span>**"
   ]
  },
  {
   "cell_type": "code",
   "execution_count": 58,
   "id": "3c428858",
   "metadata": {
    "execution": {
     "iopub.execute_input": "2022-06-20T14:52:06.888255Z",
     "iopub.status.busy": "2022-06-20T14:52:06.887840Z",
     "iopub.status.idle": "2022-06-20T14:52:32.023650Z",
     "shell.execute_reply": "2022-06-20T14:52:32.022578Z"
    },
    "papermill": {
     "duration": 25.169324,
     "end_time": "2022-06-20T14:52:32.025556",
     "exception": false,
     "start_time": "2022-06-20T14:52:06.856232",
     "status": "completed"
    },
    "tags": []
   },
   "outputs": [
    {
     "data": {
      "text/plain": [
       "XGBClassifier(base_score=0.5, booster='gbtree', callbacks=None,\n",
       "              colsample_bylevel=1, colsample_bynode=1, colsample_bytree=1,\n",
       "              early_stopping_rounds=None, enable_categorical=False,\n",
       "              eval_metric=None, gamma=0, gpu_id=-1, grow_policy='depthwise',\n",
       "              importance_type=None, interaction_constraints='',\n",
       "              learning_rate=0.300000012, max_bin=256, max_cat_to_onehot=4,\n",
       "              max_delta_step=0, max_depth=5, max_leaves=0, min_child_weight=1,\n",
       "              missing=nan, monotone_constraints='()', n_estimators=100,\n",
       "              n_jobs=0, num_parallel_tree=1, predictor='auto', random_state=0,\n",
       "              reg_alpha=0, reg_lambda=1, ...)"
      ]
     },
     "execution_count": 58,
     "metadata": {},
     "output_type": "execute_result"
    }
   ],
   "source": [
    "xgb_model = XGBClassifier(max_depth = 5, min_child_weight = 1)\n",
    "xgb_model.fit(X_train, y_train)"
   ]
  },
  {
   "cell_type": "markdown",
   "id": "e6f437f0",
   "metadata": {
    "papermill": {
     "duration": 0.030057,
     "end_time": "2022-06-20T14:52:32.085714",
     "exception": false,
     "start_time": "2022-06-20T14:52:32.055657",
     "status": "completed"
    },
    "tags": []
   },
   "source": [
    "## **<span style = \"color:#67bf78 \">Evaluation</span>**"
   ]
  },
  {
   "cell_type": "code",
   "execution_count": 59,
   "id": "7e7772d4",
   "metadata": {
    "execution": {
     "iopub.execute_input": "2022-06-20T14:52:32.147845Z",
     "iopub.status.busy": "2022-06-20T14:52:32.147175Z",
     "iopub.status.idle": "2022-06-20T14:52:32.173842Z",
     "shell.execute_reply": "2022-06-20T14:52:32.173031Z"
    },
    "papermill": {
     "duration": 0.060149,
     "end_time": "2022-06-20T14:52:32.176190",
     "exception": false,
     "start_time": "2022-06-20T14:52:32.116041",
     "status": "completed"
    },
    "tags": []
   },
   "outputs": [],
   "source": [
    "y_pred2 = xgb_model.predict(X_test)"
   ]
  },
  {
   "cell_type": "code",
   "execution_count": 60,
   "id": "af96fc8a",
   "metadata": {
    "execution": {
     "iopub.execute_input": "2022-06-20T14:52:32.241329Z",
     "iopub.status.busy": "2022-06-20T14:52:32.240582Z",
     "iopub.status.idle": "2022-06-20T14:52:32.245907Z",
     "shell.execute_reply": "2022-06-20T14:52:32.245165Z"
    },
    "papermill": {
     "duration": 0.039276,
     "end_time": "2022-06-20T14:52:32.248728",
     "exception": false,
     "start_time": "2022-06-20T14:52:32.209452",
     "status": "completed"
    },
    "tags": []
   },
   "outputs": [
    {
     "name": "stdout",
     "output_type": "stream",
     "text": [
      "Accuracy: 63.42%\n"
     ]
    }
   ],
   "source": [
    "accuracy = accuracy_score(y_test, y_pred2)\n",
    "print('Accuracy: %.2f%%' % (accuracy * 100.0))"
   ]
  },
  {
   "cell_type": "code",
   "execution_count": 61,
   "id": "b18426f0",
   "metadata": {
    "execution": {
     "iopub.execute_input": "2022-06-20T14:52:32.311935Z",
     "iopub.status.busy": "2022-06-20T14:52:32.311245Z",
     "iopub.status.idle": "2022-06-20T14:52:32.318076Z",
     "shell.execute_reply": "2022-06-20T14:52:32.317395Z"
    },
    "papermill": {
     "duration": 0.041224,
     "end_time": "2022-06-20T14:52:32.319991",
     "exception": false,
     "start_time": "2022-06-20T14:52:32.278767",
     "status": "completed"
    },
    "tags": []
   },
   "outputs": [
    {
     "data": {
      "text/plain": [
       "array([[870, 262],\n",
       "       [557, 550]])"
      ]
     },
     "execution_count": 61,
     "metadata": {},
     "output_type": "execute_result"
    }
   ],
   "source": [
    "confusion_matrix(y_test, y_pred2)"
   ]
  },
  {
   "cell_type": "code",
   "execution_count": 62,
   "id": "d67231c1",
   "metadata": {
    "execution": {
     "iopub.execute_input": "2022-06-20T14:52:32.382856Z",
     "iopub.status.busy": "2022-06-20T14:52:32.382171Z",
     "iopub.status.idle": "2022-06-20T14:52:32.395741Z",
     "shell.execute_reply": "2022-06-20T14:52:32.394037Z"
    },
    "papermill": {
     "duration": 0.048468,
     "end_time": "2022-06-20T14:52:32.398869",
     "exception": false,
     "start_time": "2022-06-20T14:52:32.350401",
     "status": "completed"
    },
    "tags": []
   },
   "outputs": [
    {
     "name": "stdout",
     "output_type": "stream",
     "text": [
      "              precision    recall  f1-score   support\n",
      "\n",
      "           0       0.61      0.77      0.68      1132\n",
      "           1       0.68      0.50      0.57      1107\n",
      "\n",
      "    accuracy                           0.63      2239\n",
      "   macro avg       0.64      0.63      0.63      2239\n",
      "weighted avg       0.64      0.63      0.63      2239\n",
      "\n"
     ]
    }
   ],
   "source": [
    "print(classification_report(y_test, y_pred2))"
   ]
  },
  {
   "cell_type": "markdown",
   "id": "2d46bb8e",
   "metadata": {
    "papermill": {
     "duration": 0.030242,
     "end_time": "2022-06-20T14:52:32.462972",
     "exception": false,
     "start_time": "2022-06-20T14:52:32.432730",
     "status": "completed"
    },
    "tags": []
   },
   "source": [
    "## **<span style = \"color:#67bf78 \">Hyperparameter optimization</span>**"
   ]
  },
  {
   "cell_type": "code",
   "execution_count": 63,
   "id": "b97d218e",
   "metadata": {
    "execution": {
     "iopub.execute_input": "2022-06-20T14:52:32.526215Z",
     "iopub.status.busy": "2022-06-20T14:52:32.525463Z",
     "iopub.status.idle": "2022-06-20T14:52:32.530849Z",
     "shell.execute_reply": "2022-06-20T14:52:32.530150Z"
    },
    "papermill": {
     "duration": 0.039344,
     "end_time": "2022-06-20T14:52:32.532922",
     "exception": false,
     "start_time": "2022-06-20T14:52:32.493578",
     "status": "completed"
    },
    "tags": []
   },
   "outputs": [],
   "source": [
    "xgb_param_grid = {\n",
    "              \"max_depth\": [3, 5],\n",
    "              \"min_child_weight\": [1, 2],\n",
    "              }"
   ]
  },
  {
   "cell_type": "code",
   "execution_count": 64,
   "id": "ca5b539d",
   "metadata": {
    "execution": {
     "iopub.execute_input": "2022-06-20T14:52:32.595832Z",
     "iopub.status.busy": "2022-06-20T14:52:32.594863Z",
     "iopub.status.idle": "2022-06-20T14:52:32.600790Z",
     "shell.execute_reply": "2022-06-20T14:52:32.600100Z"
    },
    "papermill": {
     "duration": 0.039651,
     "end_time": "2022-06-20T14:52:32.602792",
     "exception": false,
     "start_time": "2022-06-20T14:52:32.563141",
     "status": "completed"
    },
    "tags": []
   },
   "outputs": [],
   "source": [
    "xgb_grid = GridSearchCV(estimator = xgb_model, param_grid = xgb_param_grid, verbose = 1, cv = 3, n_jobs = -1)"
   ]
  },
  {
   "cell_type": "code",
   "execution_count": 65,
   "id": "7287f136",
   "metadata": {
    "execution": {
     "iopub.execute_input": "2022-06-20T14:52:32.665993Z",
     "iopub.status.busy": "2022-06-20T14:52:32.664942Z",
     "iopub.status.idle": "2022-06-20T14:55:37.931650Z",
     "shell.execute_reply": "2022-06-20T14:55:37.930575Z"
    },
    "papermill": {
     "duration": 185.331383,
     "end_time": "2022-06-20T14:55:37.964582",
     "exception": false,
     "start_time": "2022-06-20T14:52:32.633199",
     "status": "completed"
    },
    "tags": []
   },
   "outputs": [
    {
     "name": "stdout",
     "output_type": "stream",
     "text": [
      "Fitting 3 folds for each of 4 candidates, totalling 12 fits\n"
     ]
    },
    {
     "data": {
      "text/plain": [
       "GridSearchCV(cv=3,\n",
       "             estimator=XGBClassifier(base_score=0.5, booster='gbtree',\n",
       "                                     callbacks=None, colsample_bylevel=1,\n",
       "                                     colsample_bynode=1, colsample_bytree=1,\n",
       "                                     early_stopping_rounds=None,\n",
       "                                     enable_categorical=False, eval_metric=None,\n",
       "                                     gamma=0, gpu_id=-1,\n",
       "                                     grow_policy='depthwise',\n",
       "                                     importance_type=None,\n",
       "                                     interaction_constraints='',\n",
       "                                     learning_rate=0.300000012, max_bin=256,\n",
       "                                     max_cat_to_onehot=4, max_delta_step=0,\n",
       "                                     max_depth=5, max_leaves=0,\n",
       "                                     min_child_weight=1, missing=nan,\n",
       "                                     monotone_constraints='()',\n",
       "                                     n_estimators=100, n_jobs=0,\n",
       "                                     num_parallel_tree=1, predictor='auto',\n",
       "                                     random_state=0, reg_alpha=0, reg_lambda=1, ...),\n",
       "             n_jobs=-1,\n",
       "             param_grid={'max_depth': [3, 5], 'min_child_weight': [1, 2]},\n",
       "             verbose=1)"
      ]
     },
     "execution_count": 65,
     "metadata": {},
     "output_type": "execute_result"
    }
   ],
   "source": [
    "xgb_grid.fit(X_train, y_train)"
   ]
  },
  {
   "cell_type": "code",
   "execution_count": 66,
   "id": "5812d467",
   "metadata": {
    "execution": {
     "iopub.execute_input": "2022-06-20T14:55:38.028906Z",
     "iopub.status.busy": "2022-06-20T14:55:38.028443Z",
     "iopub.status.idle": "2022-06-20T14:55:38.034054Z",
     "shell.execute_reply": "2022-06-20T14:55:38.033391Z"
    },
    "papermill": {
     "duration": 0.039403,
     "end_time": "2022-06-20T14:55:38.035775",
     "exception": false,
     "start_time": "2022-06-20T14:55:37.996372",
     "status": "completed"
    },
    "tags": []
   },
   "outputs": [
    {
     "data": {
      "text/plain": [
       "{'max_depth': 5, 'min_child_weight': 2}"
      ]
     },
     "execution_count": 66,
     "metadata": {},
     "output_type": "execute_result"
    }
   ],
   "source": [
    "xgb_grid.best_params_"
   ]
  },
  {
   "cell_type": "code",
   "execution_count": 67,
   "id": "2847efd7",
   "metadata": {
    "execution": {
     "iopub.execute_input": "2022-06-20T14:55:38.099328Z",
     "iopub.status.busy": "2022-06-20T14:55:38.098336Z",
     "iopub.status.idle": "2022-06-20T14:55:38.126948Z",
     "shell.execute_reply": "2022-06-20T14:55:38.126127Z"
    },
    "papermill": {
     "duration": 0.062926,
     "end_time": "2022-06-20T14:55:38.129373",
     "exception": false,
     "start_time": "2022-06-20T14:55:38.066447",
     "status": "completed"
    },
    "tags": []
   },
   "outputs": [],
   "source": [
    "y_pred2_hyper = xgb_grid.predict(X_test)"
   ]
  },
  {
   "cell_type": "code",
   "execution_count": 68,
   "id": "410121d4",
   "metadata": {
    "execution": {
     "iopub.execute_input": "2022-06-20T14:55:38.194306Z",
     "iopub.status.busy": "2022-06-20T14:55:38.193819Z",
     "iopub.status.idle": "2022-06-20T14:55:38.200304Z",
     "shell.execute_reply": "2022-06-20T14:55:38.199415Z"
    },
    "papermill": {
     "duration": 0.040791,
     "end_time": "2022-06-20T14:55:38.202641",
     "exception": false,
     "start_time": "2022-06-20T14:55:38.161850",
     "status": "completed"
    },
    "tags": []
   },
   "outputs": [
    {
     "name": "stdout",
     "output_type": "stream",
     "text": [
      "Accuracy: 63.78%\n"
     ]
    }
   ],
   "source": [
    "accuracy = accuracy_score(y_test, y_pred2_hyper)\n",
    "print(\"Accuracy: %.2f%%\" % (accuracy * 100.0))"
   ]
  },
  {
   "cell_type": "code",
   "execution_count": 69,
   "id": "61e558dc",
   "metadata": {
    "execution": {
     "iopub.execute_input": "2022-06-20T14:55:38.265822Z",
     "iopub.status.busy": "2022-06-20T14:55:38.265434Z",
     "iopub.status.idle": "2022-06-20T14:55:38.273215Z",
     "shell.execute_reply": "2022-06-20T14:55:38.272443Z"
    },
    "papermill": {
     "duration": 0.041715,
     "end_time": "2022-06-20T14:55:38.275192",
     "exception": false,
     "start_time": "2022-06-20T14:55:38.233477",
     "status": "completed"
    },
    "tags": []
   },
   "outputs": [
    {
     "data": {
      "text/plain": [
       "array([[880, 252],\n",
       "       [559, 548]])"
      ]
     },
     "execution_count": 69,
     "metadata": {},
     "output_type": "execute_result"
    }
   ],
   "source": [
    "confusion_matrix(y_test, y_pred2_hyper)"
   ]
  },
  {
   "cell_type": "code",
   "execution_count": 70,
   "id": "f8e86201",
   "metadata": {
    "execution": {
     "iopub.execute_input": "2022-06-20T14:55:38.340061Z",
     "iopub.status.busy": "2022-06-20T14:55:38.339334Z",
     "iopub.status.idle": "2022-06-20T14:55:38.353286Z",
     "shell.execute_reply": "2022-06-20T14:55:38.351809Z"
    },
    "papermill": {
     "duration": 0.048613,
     "end_time": "2022-06-20T14:55:38.355491",
     "exception": false,
     "start_time": "2022-06-20T14:55:38.306878",
     "status": "completed"
    },
    "tags": []
   },
   "outputs": [
    {
     "name": "stdout",
     "output_type": "stream",
     "text": [
      "              precision    recall  f1-score   support\n",
      "\n",
      "           0       0.61      0.78      0.68      1132\n",
      "           1       0.69      0.50      0.57      1107\n",
      "\n",
      "    accuracy                           0.64      2239\n",
      "   macro avg       0.65      0.64      0.63      2239\n",
      "weighted avg       0.65      0.64      0.63      2239\n",
      "\n"
     ]
    }
   ],
   "source": [
    "print(classification_report(y_test, y_pred2_hyper))"
   ]
  },
  {
   "cell_type": "markdown",
   "id": "19b201b5",
   "metadata": {
    "papermill": {
     "duration": 0.030606,
     "end_time": "2022-06-20T14:55:38.416762",
     "exception": false,
     "start_time": "2022-06-20T14:55:38.386156",
     "status": "completed"
    },
    "tags": []
   },
   "source": [
    "# **<span style = \"color:#008514 \">Conclusion</span>**"
   ]
  },
  {
   "cell_type": "markdown",
   "id": "480ea52b",
   "metadata": {
    "papermill": {
     "duration": 0.030526,
     "end_time": "2022-06-20T14:55:38.478292",
     "exception": false,
     "start_time": "2022-06-20T14:55:38.447766",
     "status": "completed"
    },
    "tags": []
   },
   "source": [
    "### the result of the XGBClassifier did'nt improve even after hyperparameter tuning, but for naive Bayes Classifier and LightGBM Classifier it improved.\n",
    "### Naive Bayes proved to be the best performing model for this dataset with an accuracy of 64.18%."
   ]
  },
  {
   "cell_type": "markdown",
   "id": "a764635d",
   "metadata": {
    "papermill": {
     "duration": 0.030816,
     "end_time": "2022-06-20T14:55:38.539976",
     "exception": false,
     "start_time": "2022-06-20T14:55:38.509160",
     "status": "completed"
    },
    "tags": []
   },
   "source": [
    "## **<span style = \"color: #03ff33\">Thanks for visiting</span>**"
   ]
  }
 ],
 "metadata": {
  "kernelspec": {
   "display_name": "Python 3",
   "language": "python",
   "name": "python3"
  },
  "language_info": {
   "codemirror_mode": {
    "name": "ipython",
    "version": 3
   },
   "file_extension": ".py",
   "mimetype": "text/x-python",
   "name": "python",
   "nbconvert_exporter": "python",
   "pygments_lexer": "ipython3",
   "version": "3.7.12"
  },
  "papermill": {
   "default_parameters": {},
   "duration": 306.75913,
   "end_time": "2022-06-20T14:55:41.193057",
   "environment_variables": {},
   "exception": null,
   "input_path": "__notebook__.ipynb",
   "output_path": "__notebook__.ipynb",
   "parameters": {},
   "start_time": "2022-06-20T14:50:34.433927",
   "version": "2.3.4"
  }
 },
 "nbformat": 4,
 "nbformat_minor": 5
}
